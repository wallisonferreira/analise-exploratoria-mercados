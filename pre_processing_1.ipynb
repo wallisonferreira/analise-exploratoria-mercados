{
  "nbformat": 4,
  "nbformat_minor": 0,
  "metadata": {
    "colab": {
      "name": "pre-processing-1.ipynb",
      "provenance": [],
      "collapsed_sections": [],
      "authorship_tag": "ABX9TyPvlTuEoVZuI8NJjVtA924D",
      "include_colab_link": true
    },
    "kernelspec": {
      "name": "python3",
      "display_name": "Python 3"
    }
  },
  "cells": [
    {
      "cell_type": "markdown",
      "metadata": {
        "id": "view-in-github",
        "colab_type": "text"
      },
      "source": [
        "<a href=\"https://colab.research.google.com/github/wallisonferreira/analise-exploratoria-mercados/blob/master/pre_processing_1.ipynb\" target=\"_parent\"><img src=\"https://colab.research.google.com/assets/colab-badge.svg\" alt=\"Open In Colab\"/></a>"
      ]
    },
    {
      "cell_type": "markdown",
      "metadata": {
        "id": "7G71zM6zFVnN",
        "colab_type": "text"
      },
      "source": [
        "# Pré-processamento\n",
        "\n",
        "Neste arquivo está sendo feita uma sequência de tarefas para limpeza dos dados. Lidamos com uma base de cerca de 3800 registros e 23 features contendo, dentre eles, valores vazios em intervalos distintos.\n",
        "\n",
        "Para que possamos fazer generalizações com análise de regressão é necessário que sejam excluídos os valores vazios por que eles podem enviesar o nosso modelo atribuindo pesos inconsistentes.\n",
        "\n",
        "Uma outra técnica que também pode ser utilizada é a de interpolação de dados vazios (geralmente até 3 dados vazios em sequência), quando o intervalo de valores vazios é muito pequeno ou quando o valor vazio está isolado entre os dados."
      ]
    },
    {
      "cell_type": "code",
      "metadata": {
        "id": "iShuaRUWE_Ak",
        "colab_type": "code",
        "colab": {}
      },
      "source": [
        "# conecta ao google drive\n",
        "#from google.colab import drive\n",
        "#drive.mount('/content/drive')"
      ],
      "execution_count": 77,
      "outputs": []
    },
    {
      "cell_type": "code",
      "metadata": {
        "id": "WIG53HMIGHAM",
        "colab_type": "code",
        "colab": {}
      },
      "source": [
        "# importa bibliotecas\n",
        "import pandas as pd\n",
        "import numpy as np\n",
        "import matplotlib.pyplot as plt"
      ],
      "execution_count": 78,
      "outputs": []
    },
    {
      "cell_type": "code",
      "metadata": {
        "id": "Cp5if9fnG74j",
        "colab_type": "code",
        "colab": {}
      },
      "source": [
        "# importa os dados de mercado\n",
        "market = pd.read_csv(\"/content/drive/My Drive/Análise Exploratória/Dados/market_data.v6.csv\", index_col=0)"
      ],
      "execution_count": 79,
      "outputs": []
    },
    {
      "cell_type": "code",
      "metadata": {
        "id": "CJybTy-dbGGP",
        "colab_type": "code",
        "colab": {
          "base_uri": "https://localhost:8080/",
          "height": 34
        },
        "outputId": "e0093716-e599-4703-a7fc-2e6ed1cc0703"
      },
      "source": [
        "# registros e colunas\n",
        "market.shape"
      ],
      "execution_count": 80,
      "outputs": [
        {
          "output_type": "execute_result",
          "data": {
            "text/plain": [
              "(3800, 23)"
            ]
          },
          "metadata": {
            "tags": []
          },
          "execution_count": 80
        }
      ]
    },
    {
      "cell_type": "code",
      "metadata": {
        "id": "-9CjdDFaHOMI",
        "colab_type": "code",
        "colab": {
          "base_uri": "https://localhost:8080/",
          "height": 309
        },
        "outputId": "28b7a052-6978-49a9-de7e-35df667d2776"
      },
      "source": [
        "market.head(5)"
      ],
      "execution_count": 81,
      "outputs": [
        {
          "output_type": "execute_result",
          "data": {
            "text/html": [
              "<div>\n",
              "<style scoped>\n",
              "    .dataframe tbody tr th:only-of-type {\n",
              "        vertical-align: middle;\n",
              "    }\n",
              "\n",
              "    .dataframe tbody tr th {\n",
              "        vertical-align: top;\n",
              "    }\n",
              "\n",
              "    .dataframe thead th {\n",
              "        text-align: right;\n",
              "    }\n",
              "</style>\n",
              "<table border=\"1\" class=\"dataframe\">\n",
              "  <thead>\n",
              "    <tr style=\"text-align: right;\">\n",
              "      <th></th>\n",
              "      <th>Date</th>\n",
              "      <th>GoogleTrends</th>\n",
              "      <th>Bitcoin_DD</th>\n",
              "      <th>MarketPrice</th>\n",
              "      <th>TradeVolume</th>\n",
              "      <th>NewPosts</th>\n",
              "      <th>NewMembers</th>\n",
              "      <th>PageViews</th>\n",
              "      <th>Difficulty</th>\n",
              "      <th>CostPerTransaction</th>\n",
              "      <th>CostPerTransactionPercent</th>\n",
              "      <th>EstimTransactionVolume</th>\n",
              "      <th>MedConfirmationTime</th>\n",
              "      <th>NumOfAddresses</th>\n",
              "      <th>NumOfTransactions</th>\n",
              "      <th>OutputVolume</th>\n",
              "      <th>TotalBitcoins</th>\n",
              "      <th>TransactionFees</th>\n",
              "      <th>TransactionFeesUSD</th>\n",
              "      <th>DowJones</th>\n",
              "      <th>EURUSD</th>\n",
              "      <th>USDEUR</th>\n",
              "      <th>OilPrice</th>\n",
              "    </tr>\n",
              "  </thead>\n",
              "  <tbody>\n",
              "    <tr>\n",
              "      <th>0</th>\n",
              "      <td>2009-03-01</td>\n",
              "      <td>0.0</td>\n",
              "      <td>0.0</td>\n",
              "      <td>0.0</td>\n",
              "      <td>0.0</td>\n",
              "      <td>0.0</td>\n",
              "      <td>0.0</td>\n",
              "      <td>0.0</td>\n",
              "      <td>1.0</td>\n",
              "      <td>0.0</td>\n",
              "      <td>0.0</td>\n",
              "      <td>0.0</td>\n",
              "      <td>0.0</td>\n",
              "      <td>1.0</td>\n",
              "      <td>1.0</td>\n",
              "      <td>50.0</td>\n",
              "      <td>50.0</td>\n",
              "      <td>0.0</td>\n",
              "      <td>0.0</td>\n",
              "      <td>9034.69</td>\n",
              "      <td>1.39</td>\n",
              "      <td>0.72</td>\n",
              "      <td>40.44</td>\n",
              "    </tr>\n",
              "    <tr>\n",
              "      <th>1</th>\n",
              "      <td>2009-04-01</td>\n",
              "      <td>0.0</td>\n",
              "      <td>0.0</td>\n",
              "      <td>0.0</td>\n",
              "      <td>0.0</td>\n",
              "      <td>0.0</td>\n",
              "      <td>0.0</td>\n",
              "      <td>0.0</td>\n",
              "      <td>0.0</td>\n",
              "      <td>0.0</td>\n",
              "      <td>0.0</td>\n",
              "      <td>0.0</td>\n",
              "      <td>0.0</td>\n",
              "      <td>0.0</td>\n",
              "      <td>0.0</td>\n",
              "      <td>0.0</td>\n",
              "      <td>50.0</td>\n",
              "      <td>0.0</td>\n",
              "      <td>0.0</td>\n",
              "      <td>9034.69</td>\n",
              "      <td>1.39</td>\n",
              "      <td>0.72</td>\n",
              "      <td>40.44</td>\n",
              "    </tr>\n",
              "    <tr>\n",
              "      <th>2</th>\n",
              "      <td>2009-05-01</td>\n",
              "      <td>0.0</td>\n",
              "      <td>0.0</td>\n",
              "      <td>0.0</td>\n",
              "      <td>0.0</td>\n",
              "      <td>0.0</td>\n",
              "      <td>0.0</td>\n",
              "      <td>0.0</td>\n",
              "      <td>0.0</td>\n",
              "      <td>0.0</td>\n",
              "      <td>0.0</td>\n",
              "      <td>0.0</td>\n",
              "      <td>0.0</td>\n",
              "      <td>0.0</td>\n",
              "      <td>0.0</td>\n",
              "      <td>0.0</td>\n",
              "      <td>50.0</td>\n",
              "      <td>0.0</td>\n",
              "      <td>0.0</td>\n",
              "      <td>8952.89</td>\n",
              "      <td>1.36</td>\n",
              "      <td>0.74</td>\n",
              "      <td>43.98</td>\n",
              "    </tr>\n",
              "    <tr>\n",
              "      <th>3</th>\n",
              "      <td>2009-06-01</td>\n",
              "      <td>0.0</td>\n",
              "      <td>0.0</td>\n",
              "      <td>0.0</td>\n",
              "      <td>0.0</td>\n",
              "      <td>0.0</td>\n",
              "      <td>0.0</td>\n",
              "      <td>0.0</td>\n",
              "      <td>0.0</td>\n",
              "      <td>0.0</td>\n",
              "      <td>0.0</td>\n",
              "      <td>0.0</td>\n",
              "      <td>0.0</td>\n",
              "      <td>0.0</td>\n",
              "      <td>0.0</td>\n",
              "      <td>0.0</td>\n",
              "      <td>50.0</td>\n",
              "      <td>0.0</td>\n",
              "      <td>0.0</td>\n",
              "      <td>9015.10</td>\n",
              "      <td>1.34</td>\n",
              "      <td>0.74</td>\n",
              "      <td>46.32</td>\n",
              "    </tr>\n",
              "    <tr>\n",
              "      <th>4</th>\n",
              "      <td>2009-07-01</td>\n",
              "      <td>0.0</td>\n",
              "      <td>0.0</td>\n",
              "      <td>0.0</td>\n",
              "      <td>0.0</td>\n",
              "      <td>0.0</td>\n",
              "      <td>0.0</td>\n",
              "      <td>0.0</td>\n",
              "      <td>0.0</td>\n",
              "      <td>0.0</td>\n",
              "      <td>0.0</td>\n",
              "      <td>0.0</td>\n",
              "      <td>0.0</td>\n",
              "      <td>0.0</td>\n",
              "      <td>0.0</td>\n",
              "      <td>0.0</td>\n",
              "      <td>50.0</td>\n",
              "      <td>0.0</td>\n",
              "      <td>0.0</td>\n",
              "      <td>8769.70</td>\n",
              "      <td>1.37</td>\n",
              "      <td>0.73</td>\n",
              "      <td>45.43</td>\n",
              "    </tr>\n",
              "  </tbody>\n",
              "</table>\n",
              "</div>"
            ],
            "text/plain": [
              "         Date  GoogleTrends  Bitcoin_DD  ...  EURUSD  USDEUR  OilPrice\n",
              "0  2009-03-01           0.0         0.0  ...    1.39    0.72     40.44\n",
              "1  2009-04-01           0.0         0.0  ...    1.39    0.72     40.44\n",
              "2  2009-05-01           0.0         0.0  ...    1.36    0.74     43.98\n",
              "3  2009-06-01           0.0         0.0  ...    1.34    0.74     46.32\n",
              "4  2009-07-01           0.0         0.0  ...    1.37    0.73     45.43\n",
              "\n",
              "[5 rows x 23 columns]"
            ]
          },
          "metadata": {
            "tags": []
          },
          "execution_count": 81
        }
      ]
    },
    {
      "cell_type": "code",
      "metadata": {
        "id": "rE31X0zQHTrd",
        "colab_type": "code",
        "colab": {
          "base_uri": "https://localhost:8080/",
          "height": 425
        },
        "outputId": "7c6bf031-e9f4-44b2-f620-817cf2d5bae8"
      },
      "source": [
        "# visualizando tipos de cada coluna\n",
        "market.dtypes"
      ],
      "execution_count": 90,
      "outputs": [
        {
          "output_type": "execute_result",
          "data": {
            "text/plain": [
              "Date                          object\n",
              "GoogleTrends                 float64\n",
              "Bitcoin_DD                   float64\n",
              "MarketPrice                  float64\n",
              "TradeVolume                  float64\n",
              "NewPosts                     float64\n",
              "NewMembers                   float64\n",
              "PageViews                    float64\n",
              "Difficulty                   float64\n",
              "CostPerTransaction           float64\n",
              "CostPerTransactionPercent    float64\n",
              "EstimTransactionVolume       float64\n",
              "MedConfirmationTime          float64\n",
              "NumOfAddresses               float64\n",
              "NumOfTransactions            float64\n",
              "OutputVolume                 float64\n",
              "TotalBitcoins                float64\n",
              "TransactionFees              float64\n",
              "TransactionFeesUSD           float64\n",
              "DowJones                     float64\n",
              "EURUSD                       float64\n",
              "USDEUR                       float64\n",
              "OilPrice                     float64\n",
              "dtype: object"
            ]
          },
          "metadata": {
            "tags": []
          },
          "execution_count": 90
        }
      ]
    },
    {
      "cell_type": "code",
      "metadata": {
        "id": "vtMhlL-1IDXR",
        "colab_type": "code",
        "colab": {
          "base_uri": "https://localhost:8080/",
          "height": 731
        },
        "outputId": "e7c0f6cd-8899-4b0d-a5b3-f7eefc601e45"
      },
      "source": [
        "# visualizando valores vazios não incluindo zeros\n",
        "def empty_values(data):\n",
        "  columns = data.columns\n",
        "\n",
        "  return pd.DataFrame({ \\\n",
        "                      'Columns':[col for col in columns if col != 'Date'], \\\n",
        "                      'Empty':[data[col].isnull().sum() for col in columns if col != 'Date'], \\\n",
        "                      'Empty(%)':[data[col].isnull().sum()/data[col].isnull().count() for col in columns if col != 'Date']})\n",
        "\n",
        "empty_values(data = market)"
      ],
      "execution_count": 91,
      "outputs": [
        {
          "output_type": "execute_result",
          "data": {
            "text/html": [
              "<div>\n",
              "<style scoped>\n",
              "    .dataframe tbody tr th:only-of-type {\n",
              "        vertical-align: middle;\n",
              "    }\n",
              "\n",
              "    .dataframe tbody tr th {\n",
              "        vertical-align: top;\n",
              "    }\n",
              "\n",
              "    .dataframe thead th {\n",
              "        text-align: right;\n",
              "    }\n",
              "</style>\n",
              "<table border=\"1\" class=\"dataframe\">\n",
              "  <thead>\n",
              "    <tr style=\"text-align: right;\">\n",
              "      <th></th>\n",
              "      <th>Columns</th>\n",
              "      <th>Empty</th>\n",
              "      <th>Empty(%)</th>\n",
              "    </tr>\n",
              "  </thead>\n",
              "  <tbody>\n",
              "    <tr>\n",
              "      <th>0</th>\n",
              "      <td>GoogleTrends</td>\n",
              "      <td>563</td>\n",
              "      <td>0.148158</td>\n",
              "    </tr>\n",
              "    <tr>\n",
              "      <th>1</th>\n",
              "      <td>Bitcoin_DD</td>\n",
              "      <td>1316</td>\n",
              "      <td>0.346316</td>\n",
              "    </tr>\n",
              "    <tr>\n",
              "      <th>2</th>\n",
              "      <td>MarketPrice</td>\n",
              "      <td>591</td>\n",
              "      <td>0.155526</td>\n",
              "    </tr>\n",
              "    <tr>\n",
              "      <th>3</th>\n",
              "      <td>TradeVolume</td>\n",
              "      <td>571</td>\n",
              "      <td>0.150263</td>\n",
              "    </tr>\n",
              "    <tr>\n",
              "      <th>4</th>\n",
              "      <td>NewPosts</td>\n",
              "      <td>894</td>\n",
              "      <td>0.235263</td>\n",
              "    </tr>\n",
              "    <tr>\n",
              "      <th>5</th>\n",
              "      <td>NewMembers</td>\n",
              "      <td>969</td>\n",
              "      <td>0.255000</td>\n",
              "    </tr>\n",
              "    <tr>\n",
              "      <th>6</th>\n",
              "      <td>PageViews</td>\n",
              "      <td>1570</td>\n",
              "      <td>0.413158</td>\n",
              "    </tr>\n",
              "    <tr>\n",
              "      <th>7</th>\n",
              "      <td>Difficulty</td>\n",
              "      <td>5</td>\n",
              "      <td>0.001316</td>\n",
              "    </tr>\n",
              "    <tr>\n",
              "      <th>8</th>\n",
              "      <td>CostPerTransaction</td>\n",
              "      <td>591</td>\n",
              "      <td>0.155526</td>\n",
              "    </tr>\n",
              "    <tr>\n",
              "      <th>9</th>\n",
              "      <td>CostPerTransactionPercent</td>\n",
              "      <td>263</td>\n",
              "      <td>0.069211</td>\n",
              "    </tr>\n",
              "    <tr>\n",
              "      <th>10</th>\n",
              "      <td>EstimTransactionVolume</td>\n",
              "      <td>263</td>\n",
              "      <td>0.069211</td>\n",
              "    </tr>\n",
              "    <tr>\n",
              "      <th>11</th>\n",
              "      <td>MedConfirmationTime</td>\n",
              "      <td>1063</td>\n",
              "      <td>0.279737</td>\n",
              "    </tr>\n",
              "    <tr>\n",
              "      <th>12</th>\n",
              "      <td>NumOfAddresses</td>\n",
              "      <td>5</td>\n",
              "      <td>0.001316</td>\n",
              "    </tr>\n",
              "    <tr>\n",
              "      <th>13</th>\n",
              "      <td>NumOfTransactions</td>\n",
              "      <td>5</td>\n",
              "      <td>0.001316</td>\n",
              "    </tr>\n",
              "    <tr>\n",
              "      <th>14</th>\n",
              "      <td>OutputVolume</td>\n",
              "      <td>5</td>\n",
              "      <td>0.001316</td>\n",
              "    </tr>\n",
              "    <tr>\n",
              "      <th>15</th>\n",
              "      <td>TotalBitcoins</td>\n",
              "      <td>486</td>\n",
              "      <td>0.127895</td>\n",
              "    </tr>\n",
              "    <tr>\n",
              "      <th>16</th>\n",
              "      <td>TransactionFees</td>\n",
              "      <td>631</td>\n",
              "      <td>0.166053</td>\n",
              "    </tr>\n",
              "    <tr>\n",
              "      <th>17</th>\n",
              "      <td>TransactionFeesUSD</td>\n",
              "      <td>676</td>\n",
              "      <td>0.177895</td>\n",
              "    </tr>\n",
              "    <tr>\n",
              "      <th>18</th>\n",
              "      <td>DowJones</td>\n",
              "      <td>0</td>\n",
              "      <td>0.000000</td>\n",
              "    </tr>\n",
              "    <tr>\n",
              "      <th>19</th>\n",
              "      <td>EURUSD</td>\n",
              "      <td>133</td>\n",
              "      <td>0.035000</td>\n",
              "    </tr>\n",
              "    <tr>\n",
              "      <th>20</th>\n",
              "      <td>USDEUR</td>\n",
              "      <td>0</td>\n",
              "      <td>0.000000</td>\n",
              "    </tr>\n",
              "    <tr>\n",
              "      <th>21</th>\n",
              "      <td>OilPrice</td>\n",
              "      <td>0</td>\n",
              "      <td>0.000000</td>\n",
              "    </tr>\n",
              "  </tbody>\n",
              "</table>\n",
              "</div>"
            ],
            "text/plain": [
              "                      Columns  Empty  Empty(%)\n",
              "0                GoogleTrends    563  0.148158\n",
              "1                  Bitcoin_DD   1316  0.346316\n",
              "2                 MarketPrice    591  0.155526\n",
              "3                 TradeVolume    571  0.150263\n",
              "4                    NewPosts    894  0.235263\n",
              "5                  NewMembers    969  0.255000\n",
              "6                   PageViews   1570  0.413158\n",
              "7                  Difficulty      5  0.001316\n",
              "8          CostPerTransaction    591  0.155526\n",
              "9   CostPerTransactionPercent    263  0.069211\n",
              "10     EstimTransactionVolume    263  0.069211\n",
              "11        MedConfirmationTime   1063  0.279737\n",
              "12             NumOfAddresses      5  0.001316\n",
              "13          NumOfTransactions      5  0.001316\n",
              "14               OutputVolume      5  0.001316\n",
              "15              TotalBitcoins    486  0.127895\n",
              "16            TransactionFees    631  0.166053\n",
              "17         TransactionFeesUSD    676  0.177895\n",
              "18                   DowJones      0  0.000000\n",
              "19                     EURUSD    133  0.035000\n",
              "20                     USDEUR      0  0.000000\n",
              "21                   OilPrice      0  0.000000"
            ]
          },
          "metadata": {
            "tags": []
          },
          "execution_count": 91
        }
      ]
    },
    {
      "cell_type": "code",
      "metadata": {
        "id": "2eHumRNlI1p8",
        "colab_type": "code",
        "colab": {}
      },
      "source": [
        "# substitui todos os zeros por NaN\n",
        "market1 = market\n",
        "\n",
        "market1.replace(0.0, np.nan, inplace=True)"
      ],
      "execution_count": 84,
      "outputs": []
    },
    {
      "cell_type": "code",
      "metadata": {
        "id": "Dzj4J_hHOyjY",
        "colab_type": "code",
        "colab": {}
      },
      "source": [
        "# gerando o dataframe de vazios\n",
        "empty_market1 = empty_values(data = market1)"
      ],
      "execution_count": 85,
      "outputs": []
    },
    {
      "cell_type": "code",
      "metadata": {
        "id": "U9IR-VtmPDvb",
        "colab_type": "code",
        "colab": {
          "base_uri": "https://localhost:8080/",
          "height": 731
        },
        "outputId": "3a60395c-73a4-4fd5-b9da-18594404a742"
      },
      "source": [
        "# visualizando vazios juntando zeros transformados e nulos\n",
        "empty_market1 "
      ],
      "execution_count": 92,
      "outputs": [
        {
          "output_type": "execute_result",
          "data": {
            "text/html": [
              "<div>\n",
              "<style scoped>\n",
              "    .dataframe tbody tr th:only-of-type {\n",
              "        vertical-align: middle;\n",
              "    }\n",
              "\n",
              "    .dataframe tbody tr th {\n",
              "        vertical-align: top;\n",
              "    }\n",
              "\n",
              "    .dataframe thead th {\n",
              "        text-align: right;\n",
              "    }\n",
              "</style>\n",
              "<table border=\"1\" class=\"dataframe\">\n",
              "  <thead>\n",
              "    <tr style=\"text-align: right;\">\n",
              "      <th></th>\n",
              "      <th>Columns</th>\n",
              "      <th>Empty</th>\n",
              "      <th>Empty(%)</th>\n",
              "    </tr>\n",
              "  </thead>\n",
              "  <tbody>\n",
              "    <tr>\n",
              "      <th>0</th>\n",
              "      <td>GoogleTrends</td>\n",
              "      <td>563</td>\n",
              "      <td>0.148158</td>\n",
              "    </tr>\n",
              "    <tr>\n",
              "      <th>1</th>\n",
              "      <td>Bitcoin_DD</td>\n",
              "      <td>1316</td>\n",
              "      <td>0.346316</td>\n",
              "    </tr>\n",
              "    <tr>\n",
              "      <th>2</th>\n",
              "      <td>MarketPrice</td>\n",
              "      <td>591</td>\n",
              "      <td>0.155526</td>\n",
              "    </tr>\n",
              "    <tr>\n",
              "      <th>3</th>\n",
              "      <td>TradeVolume</td>\n",
              "      <td>571</td>\n",
              "      <td>0.150263</td>\n",
              "    </tr>\n",
              "    <tr>\n",
              "      <th>4</th>\n",
              "      <td>NewPosts</td>\n",
              "      <td>894</td>\n",
              "      <td>0.235263</td>\n",
              "    </tr>\n",
              "    <tr>\n",
              "      <th>5</th>\n",
              "      <td>NewMembers</td>\n",
              "      <td>969</td>\n",
              "      <td>0.255000</td>\n",
              "    </tr>\n",
              "    <tr>\n",
              "      <th>6</th>\n",
              "      <td>PageViews</td>\n",
              "      <td>1570</td>\n",
              "      <td>0.413158</td>\n",
              "    </tr>\n",
              "    <tr>\n",
              "      <th>7</th>\n",
              "      <td>Difficulty</td>\n",
              "      <td>5</td>\n",
              "      <td>0.001316</td>\n",
              "    </tr>\n",
              "    <tr>\n",
              "      <th>8</th>\n",
              "      <td>CostPerTransaction</td>\n",
              "      <td>591</td>\n",
              "      <td>0.155526</td>\n",
              "    </tr>\n",
              "    <tr>\n",
              "      <th>9</th>\n",
              "      <td>CostPerTransactionPercent</td>\n",
              "      <td>263</td>\n",
              "      <td>0.069211</td>\n",
              "    </tr>\n",
              "    <tr>\n",
              "      <th>10</th>\n",
              "      <td>EstimTransactionVolume</td>\n",
              "      <td>263</td>\n",
              "      <td>0.069211</td>\n",
              "    </tr>\n",
              "    <tr>\n",
              "      <th>11</th>\n",
              "      <td>MedConfirmationTime</td>\n",
              "      <td>1063</td>\n",
              "      <td>0.279737</td>\n",
              "    </tr>\n",
              "    <tr>\n",
              "      <th>12</th>\n",
              "      <td>NumOfAddresses</td>\n",
              "      <td>5</td>\n",
              "      <td>0.001316</td>\n",
              "    </tr>\n",
              "    <tr>\n",
              "      <th>13</th>\n",
              "      <td>NumOfTransactions</td>\n",
              "      <td>5</td>\n",
              "      <td>0.001316</td>\n",
              "    </tr>\n",
              "    <tr>\n",
              "      <th>14</th>\n",
              "      <td>OutputVolume</td>\n",
              "      <td>5</td>\n",
              "      <td>0.001316</td>\n",
              "    </tr>\n",
              "    <tr>\n",
              "      <th>15</th>\n",
              "      <td>TotalBitcoins</td>\n",
              "      <td>486</td>\n",
              "      <td>0.127895</td>\n",
              "    </tr>\n",
              "    <tr>\n",
              "      <th>16</th>\n",
              "      <td>TransactionFees</td>\n",
              "      <td>631</td>\n",
              "      <td>0.166053</td>\n",
              "    </tr>\n",
              "    <tr>\n",
              "      <th>17</th>\n",
              "      <td>TransactionFeesUSD</td>\n",
              "      <td>676</td>\n",
              "      <td>0.177895</td>\n",
              "    </tr>\n",
              "    <tr>\n",
              "      <th>18</th>\n",
              "      <td>DowJones</td>\n",
              "      <td>0</td>\n",
              "      <td>0.000000</td>\n",
              "    </tr>\n",
              "    <tr>\n",
              "      <th>19</th>\n",
              "      <td>EURUSD</td>\n",
              "      <td>133</td>\n",
              "      <td>0.035000</td>\n",
              "    </tr>\n",
              "    <tr>\n",
              "      <th>20</th>\n",
              "      <td>USDEUR</td>\n",
              "      <td>0</td>\n",
              "      <td>0.000000</td>\n",
              "    </tr>\n",
              "    <tr>\n",
              "      <th>21</th>\n",
              "      <td>OilPrice</td>\n",
              "      <td>0</td>\n",
              "      <td>0.000000</td>\n",
              "    </tr>\n",
              "  </tbody>\n",
              "</table>\n",
              "</div>"
            ],
            "text/plain": [
              "                      Columns  Empty  Empty(%)\n",
              "0                GoogleTrends    563  0.148158\n",
              "1                  Bitcoin_DD   1316  0.346316\n",
              "2                 MarketPrice    591  0.155526\n",
              "3                 TradeVolume    571  0.150263\n",
              "4                    NewPosts    894  0.235263\n",
              "5                  NewMembers    969  0.255000\n",
              "6                   PageViews   1570  0.413158\n",
              "7                  Difficulty      5  0.001316\n",
              "8          CostPerTransaction    591  0.155526\n",
              "9   CostPerTransactionPercent    263  0.069211\n",
              "10     EstimTransactionVolume    263  0.069211\n",
              "11        MedConfirmationTime   1063  0.279737\n",
              "12             NumOfAddresses      5  0.001316\n",
              "13          NumOfTransactions      5  0.001316\n",
              "14               OutputVolume      5  0.001316\n",
              "15              TotalBitcoins    486  0.127895\n",
              "16            TransactionFees    631  0.166053\n",
              "17         TransactionFeesUSD    676  0.177895\n",
              "18                   DowJones      0  0.000000\n",
              "19                     EURUSD    133  0.035000\n",
              "20                     USDEUR      0  0.000000\n",
              "21                   OilPrice      0  0.000000"
            ]
          },
          "metadata": {
            "tags": []
          },
          "execution_count": 92
        }
      ]
    },
    {
      "cell_type": "code",
      "metadata": {
        "id": "eURUQUu9T3xA",
        "colab_type": "code",
        "colab": {}
      },
      "source": [
        "# calcula o número de dados vazios em cada linha\n",
        "count_nulls = market1.isnull().sum(axis=1)"
      ],
      "execution_count": 87,
      "outputs": []
    },
    {
      "cell_type": "markdown",
      "metadata": {
        "id": "ru46pzF_Qc5y",
        "colab_type": "text"
      },
      "source": [
        "Vamos visualizar os dados em gráfico, Assim, podemos tirar conclusões melhores sobre a localização dos dados vazios."
      ]
    },
    {
      "cell_type": "code",
      "metadata": {
        "id": "54PaJ7QJPhcy",
        "colab_type": "code",
        "colab": {
          "base_uri": "https://localhost:8080/",
          "height": 482
        },
        "outputId": "24fa88d1-51aa-44b4-aff8-2a31867c2ccc"
      },
      "source": [
        "# Market Price\n",
        "%matplotlib inline\n",
        "fig = plt.figure(figsize=(16,8))\n",
        "ax = plt.axes()\n",
        "ax.plot(market['Date'], market['MarketPrice'],'-b')\n",
        "ax.plot(market1['Date'], market1['MarketPrice'],'-r')\n",
        "fig.show();"
      ],
      "execution_count": 88,
      "outputs": [
        {
          "output_type": "display_data",
          "data": {
            "image/png": "[encoded data removed]",
            "text/plain": [
              "<Figure size 1152x576 with 1 Axes>"
            ]
          },
          "metadata": {
            "tags": [],
            "needs_background": "light"
          }
        }
      ]
    },
    {
      "cell_type": "code",
      "metadata": {
        "id": "OnvJVXGzSAdX",
        "colab_type": "code",
        "colab": {
          "base_uri": "https://localhost:8080/",
          "height": 483
        },
        "outputId": "c14cdd2f-c1f5-40a0-92be-228937b8ecb2"
      },
      "source": [
        "# soma de valores nulos por dia\n",
        "fig = plt.figure(figsize=(16,8))\n",
        "ax = plt.axes()\n",
        "ax.plot(market1['Date'], count_nulls,'-r')\n",
        "fig.show();"
      ],
      "execution_count": 89,
      "outputs": [
        {
          "output_type": "display_data",
          "data": {
            "image/png": "[encoded data removed]",
            "text/plain": [
              "<Figure size 1152x576 with 1 Axes>"
            ]
          },
          "metadata": {
            "tags": [],
            "needs_background": "light"
          }
        }
      ]
    },
    {
      "cell_type": "markdown",
      "metadata": {
        "id": "u7UcHSbEXu2z",
        "colab_type": "text"
      },
      "source": [
        "Pode-se ver, acima, que há um intervalo muito grande de dados vazios que corresponde a mais 50% da base. Os dados vazios aparecem inclusive concentrados em datas onde o movimento da variável explicada é muito grande (Lado direito).\n",
        "\n",
        "Alternativas para lidar com esse problema:\n",
        "\n",
        "* Selecionar somente o intervalo, concentrados no meio do gráfico, e realizar a exclusão dos dados extremos;\n",
        "* Selecionar apenas as features com menos valores vazios;\n",
        "* Selecionar do intervalo do meio para a direita, excluindo features com grandes intervalos de vazios;"
      ]
    }
  ]
}