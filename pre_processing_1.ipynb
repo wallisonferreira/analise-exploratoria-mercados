{
  "nbformat": 4,
  "nbformat_minor": 0,
  "metadata": {
    "colab": {
      "name": "pre-processing-1.ipynb",
      "provenance": [],
      "collapsed_sections": [],
      "authorship_tag": "ABX9TyMcZls4f2fS7Yh/p/dV4RU7",
      "include_colab_link": true
    },
    "kernelspec": {
      "name": "python3",
      "display_name": "Python 3"
    }
  },
  "cells": [
    {
      "cell_type": "markdown",
      "metadata": {
        "id": "view-in-github",
        "colab_type": "text"
      },
      "source": [
        "<a href=\"https://colab.research.google.com/github/wallisonferreira/bitcoin-and-markets-analysis/blob/master/pre_processing_1.ipynb\" target=\"_parent\"><img src=\"https://colab.research.google.com/assets/colab-badge.svg\" alt=\"Open In Colab\"/></a>"
      ]
    },
    {
      "cell_type": "markdown",
      "metadata": {
        "id": "7G71zM6zFVnN",
        "colab_type": "text"
      },
      "source": [
        "# Pré-processamento\n",
        "\n",
        "Neste arquivo está sendo feita uma sequência de tarefas para limpeza dos dados. Lidamos com uma base de cerca de 3800 registros e 23 features contendo, dentre eles, valores vazios em intervalos distintos.\n",
        "\n",
        "Para que possamos fazer generalizações com análise de regressão é necessário que sejam excluídos os valores vazios por que eles podem enviesar o nosso modelo atribuindo pesos inconsistentes.\n",
        "\n",
        "Uma outra técnica que também pode ser utilizada é a de interpolação de dados vazios (geralmente até 3 dados vazios em sequência), quando o intervalo de valores vazios é muito pequeno ou quando o valor vazio está isolado entre os dados."
      ]
    },
    {
      "cell_type": "code",
      "metadata": {
        "id": "iShuaRUWE_Ak",
        "colab_type": "code",
        "colab": {
          "base_uri": "https://localhost:8080/",
          "height": 34
        },
        "outputId": "095ebc58-d324-4b75-c215-0f56f8722718"
      },
      "source": [
        "# conecta ao google drive\n",
        "#from google.colab import drive\n",
        "#drive.mount('/content/drive')"
      ],
      "execution_count": 1,
      "outputs": [
        {
          "output_type": "stream",
          "text": [
            "Mounted at /content/drive\n"
          ],
          "name": "stdout"
        }
      ]
    },
    {
      "cell_type": "code",
      "metadata": {
        "id": "WIG53HMIGHAM",
        "colab_type": "code",
        "colab": {}
      },
      "source": [
        "# importa bibliotecas\n",
        "import pandas as pd\n",
        "import numpy as np\n",
        "import matplotlib.pyplot as plt"
      ],
      "execution_count": 3,
      "outputs": []
    },
    {
      "cell_type": "code",
      "metadata": {
        "id": "Cp5if9fnG74j",
        "colab_type": "code",
        "colab": {}
      },
      "source": [
        "# importa os dados de mercado\n",
        "market = pd.read_csv(\"/content/drive/My Drive/Análise Exploratória/Dados/market_data.v6.csv\")"
      ],
      "execution_count": 230,
      "outputs": []
    },
    {
      "cell_type": "code",
      "metadata": {
        "id": "zq4WeXY5az5G",
        "colab_type": "code",
        "colab": {}
      },
      "source": [
        "# transforming date\n",
        "market['Date'] = pd.to_datetime(market['Date'])"
      ],
      "execution_count": 232,
      "outputs": []
    },
    {
      "cell_type": "markdown",
      "metadata": {
        "id": "6HtmSjK0RkwY",
        "colab_type": "text"
      },
      "source": [
        "#Excluindo colunas indesejadas"
      ]
    },
    {
      "cell_type": "code",
      "metadata": {
        "id": "y6xyuE-8AaJD",
        "colab_type": "code",
        "colab": {}
      },
      "source": [
        "# delete unnamed column\n",
        "def delete_unnamed_col(data = market):\n",
        "  cols = market.columns\n",
        "  if 'Unnamed: 0' in cols:\n",
        "    data = data.drop('Unnamed: 0', axis=1)\n",
        "  else:\n",
        "    data = data\n",
        "  return data\n",
        "\n",
        "market = delete_unnamed_col(market)"
      ],
      "execution_count": 233,
      "outputs": []
    },
    {
      "cell_type": "markdown",
      "metadata": {
        "id": "wNLsVAQ5RDns",
        "colab_type": "text"
      },
      "source": [
        "#Merge de colunas adicionais\n",
        "Nesta seção faremos o merge de dados de oil_price e sp500 em nosso dataset"
      ]
    },
    {
      "cell_type": "code",
      "metadata": {
        "id": "0FM4LjTkQdIN",
        "colab_type": "code",
        "colab": {}
      },
      "source": [
        "# carrega dados adicionais\n",
        "oil_price = pd.read_csv('/content/drive/My Drive/Análise Exploratória/Dados/oil_price.csv')\n",
        "sp500 = pd.read_csv('/content/drive/My Drive/Análise Exploratória/Dados/sp500.csv')"
      ],
      "execution_count": 234,
      "outputs": []
    },
    {
      "cell_type": "code",
      "metadata": {
        "id": "BUSEKdXcSHQd",
        "colab_type": "code",
        "colab": {}
      },
      "source": [
        "# renomeando colunas\n",
        "oil_price.rename(columns={'Value':'OilPrice'}, inplace=True)\n",
        "sp500.rename(columns={'Close':'SP500'}, inplace=True)"
      ],
      "execution_count": 235,
      "outputs": []
    },
    {
      "cell_type": "code",
      "metadata": {
        "id": "GQctbAi7SYZk",
        "colab_type": "code",
        "colab": {}
      },
      "source": [
        "# selecionando colunas específicas\n",
        "sp500 = sp500[['Date', 'SP500']]\n",
        "oil_price = oil_price[['Date', 'OilPrice']]"
      ],
      "execution_count": 236,
      "outputs": []
    },
    {
      "cell_type": "code",
      "metadata": {
        "id": "QozxfwKzbWtp",
        "colab_type": "code",
        "colab": {}
      },
      "source": [
        "# transformando coluna dates\n",
        "sp500['Date'] = pd.to_datetime(sp500['Date'])\n",
        "oil_price['Date'] = pd.to_datetime(oil_price['Date'])"
      ],
      "execution_count": 237,
      "outputs": []
    },
    {
      "cell_type": "code",
      "metadata": {
        "id": "1FHFfIVY1Ee8",
        "colab_type": "code",
        "colab": {}
      },
      "source": [
        "# criando index temporários para realizar o merge\n",
        "market['Date_Index'] = market['Date'].astype(str)\n",
        "sp500['Date_Index_S'] = sp500['Date'].astype(str)\n",
        "oil_price['Date_Index_O'] = oil_price['Date'].astype(str)"
      ],
      "execution_count": 238,
      "outputs": []
    },
    {
      "cell_type": "markdown",
      "metadata": {
        "id": "msPswU7ym3yK",
        "colab_type": "text"
      },
      "source": [
        "Juntando coluna OilPrice e SP500, respectivamente\n",
        "\n",
        "***TODO: merge não funciona para todas as instâncias. Há valores vazios gerados durante a junção.***"
      ]
    },
    {
      "cell_type": "code",
      "metadata": {
        "id": "Oi-YF1_qoTn9",
        "colab_type": "code",
        "colab": {}
      },
      "source": [
        "# merge de coluna sp500\n",
        "market.merge(sp500, how='right', left_on='Date_Index', right_on='Date_Index_S')\n",
        "market = result"
      ],
      "execution_count": 249,
      "outputs": []
    },
    {
      "cell_type": "code",
      "metadata": {
        "id": "ciiN6NX5Vp9Z",
        "colab_type": "code",
        "colab": {}
      },
      "source": [
        "# merge de colunas oil price\n",
        "result = pd.merge(market, oil_price, on='Date', how='left')\n",
        "# excluindo coluna antiga e renomeando a nova\n",
        "result.drop('OilPrice_x', axis=1, inplace=True)\n",
        "result.rename(columns={'OilPrice_y':'OilPrice'}, inplace=True)\n",
        "market = result"
      ],
      "execution_count": 181,
      "outputs": []
    },
    {
      "cell_type": "code",
      "metadata": {
        "id": "_By9GTAvqSAK",
        "colab_type": "code",
        "colab": {
          "base_uri": "https://localhost:8080/",
          "height": 359
        },
        "outputId": "d8a6a4c6-30a4-40cc-cda2-65478c3573b9"
      },
      "source": [
        "market[['Date','SP500','Date_Index']].head(10)"
      ],
      "execution_count": 253,
      "outputs": [
        {
          "output_type": "execute_result",
          "data": {
            "text/html": [
              "<div>\n",
              "<style scoped>\n",
              "    .dataframe tbody tr th:only-of-type {\n",
              "        vertical-align: middle;\n",
              "    }\n",
              "\n",
              "    .dataframe tbody tr th {\n",
              "        vertical-align: top;\n",
              "    }\n",
              "\n",
              "    .dataframe thead th {\n",
              "        text-align: right;\n",
              "    }\n",
              "</style>\n",
              "<table border=\"1\" class=\"dataframe\">\n",
              "  <thead>\n",
              "    <tr style=\"text-align: right;\">\n",
              "      <th></th>\n",
              "      <th>Date</th>\n",
              "      <th>SP500</th>\n",
              "      <th>Date_Index</th>\n",
              "    </tr>\n",
              "  </thead>\n",
              "  <tbody>\n",
              "    <tr>\n",
              "      <th>0</th>\n",
              "      <td>2009-03-01</td>\n",
              "      <td>NaN</td>\n",
              "      <td>2009-03-01</td>\n",
              "    </tr>\n",
              "    <tr>\n",
              "      <th>1</th>\n",
              "      <td>2009-04-01</td>\n",
              "      <td>811.08</td>\n",
              "      <td>2009-04-01</td>\n",
              "    </tr>\n",
              "    <tr>\n",
              "      <th>2</th>\n",
              "      <td>2009-05-01</td>\n",
              "      <td>877.52</td>\n",
              "      <td>2009-05-01</td>\n",
              "    </tr>\n",
              "    <tr>\n",
              "      <th>3</th>\n",
              "      <td>2009-06-01</td>\n",
              "      <td>942.87</td>\n",
              "      <td>2009-06-01</td>\n",
              "    </tr>\n",
              "    <tr>\n",
              "      <th>4</th>\n",
              "      <td>2009-07-01</td>\n",
              "      <td>923.33</td>\n",
              "      <td>2009-07-01</td>\n",
              "    </tr>\n",
              "    <tr>\n",
              "      <th>5</th>\n",
              "      <td>2009-08-01</td>\n",
              "      <td>NaN</td>\n",
              "      <td>2009-08-01</td>\n",
              "    </tr>\n",
              "    <tr>\n",
              "      <th>6</th>\n",
              "      <td>2009-09-01</td>\n",
              "      <td>998.04</td>\n",
              "      <td>2009-09-01</td>\n",
              "    </tr>\n",
              "    <tr>\n",
              "      <th>7</th>\n",
              "      <td>2009-10-01</td>\n",
              "      <td>1029.85</td>\n",
              "      <td>2009-10-01</td>\n",
              "    </tr>\n",
              "    <tr>\n",
              "      <th>8</th>\n",
              "      <td>2009-11-01</td>\n",
              "      <td>NaN</td>\n",
              "      <td>2009-11-01</td>\n",
              "    </tr>\n",
              "    <tr>\n",
              "      <th>9</th>\n",
              "      <td>2009-12-01</td>\n",
              "      <td>1108.86</td>\n",
              "      <td>2009-12-01</td>\n",
              "    </tr>\n",
              "  </tbody>\n",
              "</table>\n",
              "</div>"
            ],
            "text/plain": [
              "        Date    SP500  Date_Index\n",
              "0 2009-03-01      NaN  2009-03-01\n",
              "1 2009-04-01   811.08  2009-04-01\n",
              "2 2009-05-01   877.52  2009-05-01\n",
              "3 2009-06-01   942.87  2009-06-01\n",
              "4 2009-07-01   923.33  2009-07-01\n",
              "5 2009-08-01      NaN  2009-08-01\n",
              "6 2009-09-01   998.04  2009-09-01\n",
              "7 2009-10-01  1029.85  2009-10-01\n",
              "8 2009-11-01      NaN  2009-11-01\n",
              "9 2009-12-01  1108.86  2009-12-01"
            ]
          },
          "metadata": {
            "tags": []
          },
          "execution_count": 253
        }
      ]
    },
    {
      "cell_type": "code",
      "metadata": {
        "id": "xQUiJcY70b_g",
        "colab_type": "code",
        "colab": {
          "base_uri": "https://localhost:8080/",
          "height": 419
        },
        "outputId": "645aff53-cd70-48bf-b52d-6ceef252d427"
      },
      "source": [
        "sp500"
      ],
      "execution_count": 255,
      "outputs": [
        {
          "output_type": "execute_result",
          "data": {
            "text/html": [
              "<div>\n",
              "<style scoped>\n",
              "    .dataframe tbody tr th:only-of-type {\n",
              "        vertical-align: middle;\n",
              "    }\n",
              "\n",
              "    .dataframe tbody tr th {\n",
              "        vertical-align: top;\n",
              "    }\n",
              "\n",
              "    .dataframe thead th {\n",
              "        text-align: right;\n",
              "    }\n",
              "</style>\n",
              "<table border=\"1\" class=\"dataframe\">\n",
              "  <thead>\n",
              "    <tr style=\"text-align: right;\">\n",
              "      <th></th>\n",
              "      <th>Date</th>\n",
              "      <th>SP500</th>\n",
              "      <th>Date_Index_S</th>\n",
              "    </tr>\n",
              "  </thead>\n",
              "  <tbody>\n",
              "    <tr>\n",
              "      <th>0</th>\n",
              "      <td>2009-01-05</td>\n",
              "      <td>927.45</td>\n",
              "      <td>2009-01-05</td>\n",
              "    </tr>\n",
              "    <tr>\n",
              "      <th>1</th>\n",
              "      <td>2009-01-06</td>\n",
              "      <td>934.70</td>\n",
              "      <td>2009-01-06</td>\n",
              "    </tr>\n",
              "    <tr>\n",
              "      <th>2</th>\n",
              "      <td>2009-01-07</td>\n",
              "      <td>906.65</td>\n",
              "      <td>2009-01-07</td>\n",
              "    </tr>\n",
              "    <tr>\n",
              "      <th>3</th>\n",
              "      <td>2009-01-08</td>\n",
              "      <td>909.73</td>\n",
              "      <td>2009-01-08</td>\n",
              "    </tr>\n",
              "    <tr>\n",
              "      <th>4</th>\n",
              "      <td>2009-01-09</td>\n",
              "      <td>890.35</td>\n",
              "      <td>2009-01-09</td>\n",
              "    </tr>\n",
              "    <tr>\n",
              "      <th>...</th>\n",
              "      <td>...</td>\n",
              "      <td>...</td>\n",
              "      <td>...</td>\n",
              "    </tr>\n",
              "    <tr>\n",
              "      <th>2613</th>\n",
              "      <td>2019-05-23</td>\n",
              "      <td>2822.24</td>\n",
              "      <td>2019-05-23</td>\n",
              "    </tr>\n",
              "    <tr>\n",
              "      <th>2614</th>\n",
              "      <td>2019-05-24</td>\n",
              "      <td>2826.06</td>\n",
              "      <td>2019-05-24</td>\n",
              "    </tr>\n",
              "    <tr>\n",
              "      <th>2615</th>\n",
              "      <td>2019-05-28</td>\n",
              "      <td>2802.39</td>\n",
              "      <td>2019-05-28</td>\n",
              "    </tr>\n",
              "    <tr>\n",
              "      <th>2616</th>\n",
              "      <td>2019-05-29</td>\n",
              "      <td>2783.02</td>\n",
              "      <td>2019-05-29</td>\n",
              "    </tr>\n",
              "    <tr>\n",
              "      <th>2617</th>\n",
              "      <td>2019-05-30</td>\n",
              "      <td>2788.86</td>\n",
              "      <td>2019-05-30</td>\n",
              "    </tr>\n",
              "  </tbody>\n",
              "</table>\n",
              "<p>2618 rows × 3 columns</p>\n",
              "</div>"
            ],
            "text/plain": [
              "           Date    SP500 Date_Index_S\n",
              "0    2009-01-05   927.45   2009-01-05\n",
              "1    2009-01-06   934.70   2009-01-06\n",
              "2    2009-01-07   906.65   2009-01-07\n",
              "3    2009-01-08   909.73   2009-01-08\n",
              "4    2009-01-09   890.35   2009-01-09\n",
              "...         ...      ...          ...\n",
              "2613 2019-05-23  2822.24   2019-05-23\n",
              "2614 2019-05-24  2826.06   2019-05-24\n",
              "2615 2019-05-28  2802.39   2019-05-28\n",
              "2616 2019-05-29  2783.02   2019-05-29\n",
              "2617 2019-05-30  2788.86   2019-05-30\n",
              "\n",
              "[2618 rows x 3 columns]"
            ]
          },
          "metadata": {
            "tags": []
          },
          "execution_count": 255
        }
      ]
    },
    {
      "cell_type": "markdown",
      "metadata": {
        "id": "3fDf8jklRXsi",
        "colab_type": "text"
      },
      "source": [
        "#Visualizando informações das features"
      ]
    },
    {
      "cell_type": "code",
      "metadata": {
        "id": "rE31X0zQHTrd",
        "colab_type": "code",
        "colab": {
          "base_uri": "https://localhost:8080/",
          "height": 561
        },
        "outputId": "18155aa6-c085-4346-f684-b9fc0e01f23a"
      },
      "source": [
        "# visualizando tipos de cada coluna\n",
        "market.info()"
      ],
      "execution_count": 252,
      "outputs": [
        {
          "output_type": "stream",
          "text": [
            "<class 'pandas.core.frame.DataFrame'>\n",
            "Int64Index: 3800 entries, 0 to 3799\n",
            "Data columns (total 25 columns):\n",
            " #   Column                     Non-Null Count  Dtype         \n",
            "---  ------                     --------------  -----         \n",
            " 0   Date                       3800 non-null   datetime64[ns]\n",
            " 1   GoogleTrends               3800 non-null   float64       \n",
            " 2   Bitcoin_DD                 2746 non-null   float64       \n",
            " 3   MarketPrice                3800 non-null   float64       \n",
            " 4   TradeVolume                3789 non-null   float64       \n",
            " 5   NewPosts                   3267 non-null   float64       \n",
            " 6   NewMembers                 3267 non-null   float64       \n",
            " 7   PageViews                  3267 non-null   float64       \n",
            " 8   Difficulty                 3800 non-null   float64       \n",
            " 9   CostPerTransaction         3800 non-null   float64       \n",
            " 10  CostPerTransactionPercent  3798 non-null   float64       \n",
            " 11  EstimTransactionVolume     3800 non-null   float64       \n",
            " 12  MedConfirmationTime        3800 non-null   float64       \n",
            " 13  NumOfAddresses             3800 non-null   float64       \n",
            " 14  NumOfTransactions          3800 non-null   float64       \n",
            " 15  OutputVolume               3800 non-null   float64       \n",
            " 16  TotalBitcoins              3314 non-null   float64       \n",
            " 17  TransactionFees            3800 non-null   float64       \n",
            " 18  TransactionFeesUSD         3800 non-null   float64       \n",
            " 19  DowJones                   3800 non-null   float64       \n",
            " 20  EURUSD                     3799 non-null   float64       \n",
            " 21  USDEUR                     3800 non-null   float64       \n",
            " 22  SP500                      2593 non-null   float64       \n",
            " 23  OilPrice                   2660 non-null   float64       \n",
            " 24  Date_Index                 3800 non-null   object        \n",
            "dtypes: datetime64[ns](1), float64(23), object(1)\n",
            "memory usage: 771.9+ KB\n"
          ],
          "name": "stdout"
        }
      ]
    },
    {
      "cell_type": "code",
      "metadata": {
        "id": "vtMhlL-1IDXR",
        "colab_type": "code",
        "colab": {
          "base_uri": "https://localhost:8080/",
          "height": 731
        },
        "outputId": "2f2165f5-3e94-4dd3-ac82-a30608080667"
      },
      "source": [
        "# informa valores vazios não incluindo zeros\n",
        "def empty_values(data):\n",
        "  columns = data.columns\n",
        "\n",
        "  return pd.DataFrame({ \\\n",
        "                      'Columns':[col for col in columns if col != 'Date'], \\\n",
        "                      'Empty':[data[col].isnull().sum() for col in columns if col != 'Date'], \\\n",
        "                      'Empty(%)':[data[col].isnull().sum()/data[col].isnull().count() for col in columns if col != 'Date']})\n",
        "\n",
        "empty_values1 = empty_values(data = market)\n",
        "empty_values1.sort_values('Empty', ascending=False)"
      ],
      "execution_count": null,
      "outputs": [
        {
          "output_type": "execute_result",
          "data": {
            "text/html": [
              "<div>\n",
              "<style scoped>\n",
              "    .dataframe tbody tr th:only-of-type {\n",
              "        vertical-align: middle;\n",
              "    }\n",
              "\n",
              "    .dataframe tbody tr th {\n",
              "        vertical-align: top;\n",
              "    }\n",
              "\n",
              "    .dataframe thead th {\n",
              "        text-align: right;\n",
              "    }\n",
              "</style>\n",
              "<table border=\"1\" class=\"dataframe\">\n",
              "  <thead>\n",
              "    <tr style=\"text-align: right;\">\n",
              "      <th></th>\n",
              "      <th>Columns</th>\n",
              "      <th>Empty</th>\n",
              "      <th>Empty(%)</th>\n",
              "    </tr>\n",
              "  </thead>\n",
              "  <tbody>\n",
              "    <tr>\n",
              "      <th>1</th>\n",
              "      <td>Bitcoin_DD</td>\n",
              "      <td>1054</td>\n",
              "      <td>0.277368</td>\n",
              "    </tr>\n",
              "    <tr>\n",
              "      <th>4</th>\n",
              "      <td>NewPosts</td>\n",
              "      <td>533</td>\n",
              "      <td>0.140263</td>\n",
              "    </tr>\n",
              "    <tr>\n",
              "      <th>5</th>\n",
              "      <td>NewMembers</td>\n",
              "      <td>533</td>\n",
              "      <td>0.140263</td>\n",
              "    </tr>\n",
              "    <tr>\n",
              "      <th>6</th>\n",
              "      <td>PageViews</td>\n",
              "      <td>533</td>\n",
              "      <td>0.140263</td>\n",
              "    </tr>\n",
              "    <tr>\n",
              "      <th>15</th>\n",
              "      <td>TotalBitcoins</td>\n",
              "      <td>486</td>\n",
              "      <td>0.127895</td>\n",
              "    </tr>\n",
              "    <tr>\n",
              "      <th>3</th>\n",
              "      <td>TradeVolume</td>\n",
              "      <td>11</td>\n",
              "      <td>0.002895</td>\n",
              "    </tr>\n",
              "    <tr>\n",
              "      <th>9</th>\n",
              "      <td>CostPerTransactionPercent</td>\n",
              "      <td>2</td>\n",
              "      <td>0.000526</td>\n",
              "    </tr>\n",
              "    <tr>\n",
              "      <th>19</th>\n",
              "      <td>EURUSD</td>\n",
              "      <td>1</td>\n",
              "      <td>0.000263</td>\n",
              "    </tr>\n",
              "    <tr>\n",
              "      <th>0</th>\n",
              "      <td>GoogleTrends</td>\n",
              "      <td>0</td>\n",
              "      <td>0.000000</td>\n",
              "    </tr>\n",
              "    <tr>\n",
              "      <th>14</th>\n",
              "      <td>OutputVolume</td>\n",
              "      <td>0</td>\n",
              "      <td>0.000000</td>\n",
              "    </tr>\n",
              "    <tr>\n",
              "      <th>20</th>\n",
              "      <td>USDEUR</td>\n",
              "      <td>0</td>\n",
              "      <td>0.000000</td>\n",
              "    </tr>\n",
              "    <tr>\n",
              "      <th>18</th>\n",
              "      <td>DowJones</td>\n",
              "      <td>0</td>\n",
              "      <td>0.000000</td>\n",
              "    </tr>\n",
              "    <tr>\n",
              "      <th>17</th>\n",
              "      <td>TransactionFeesUSD</td>\n",
              "      <td>0</td>\n",
              "      <td>0.000000</td>\n",
              "    </tr>\n",
              "    <tr>\n",
              "      <th>16</th>\n",
              "      <td>TransactionFees</td>\n",
              "      <td>0</td>\n",
              "      <td>0.000000</td>\n",
              "    </tr>\n",
              "    <tr>\n",
              "      <th>11</th>\n",
              "      <td>MedConfirmationTime</td>\n",
              "      <td>0</td>\n",
              "      <td>0.000000</td>\n",
              "    </tr>\n",
              "    <tr>\n",
              "      <th>13</th>\n",
              "      <td>NumOfTransactions</td>\n",
              "      <td>0</td>\n",
              "      <td>0.000000</td>\n",
              "    </tr>\n",
              "    <tr>\n",
              "      <th>12</th>\n",
              "      <td>NumOfAddresses</td>\n",
              "      <td>0</td>\n",
              "      <td>0.000000</td>\n",
              "    </tr>\n",
              "    <tr>\n",
              "      <th>10</th>\n",
              "      <td>EstimTransactionVolume</td>\n",
              "      <td>0</td>\n",
              "      <td>0.000000</td>\n",
              "    </tr>\n",
              "    <tr>\n",
              "      <th>8</th>\n",
              "      <td>CostPerTransaction</td>\n",
              "      <td>0</td>\n",
              "      <td>0.000000</td>\n",
              "    </tr>\n",
              "    <tr>\n",
              "      <th>7</th>\n",
              "      <td>Difficulty</td>\n",
              "      <td>0</td>\n",
              "      <td>0.000000</td>\n",
              "    </tr>\n",
              "    <tr>\n",
              "      <th>2</th>\n",
              "      <td>MarketPrice</td>\n",
              "      <td>0</td>\n",
              "      <td>0.000000</td>\n",
              "    </tr>\n",
              "    <tr>\n",
              "      <th>21</th>\n",
              "      <td>OilPrice</td>\n",
              "      <td>0</td>\n",
              "      <td>0.000000</td>\n",
              "    </tr>\n",
              "  </tbody>\n",
              "</table>\n",
              "</div>"
            ],
            "text/plain": [
              "                      Columns  Empty  Empty(%)\n",
              "1                  Bitcoin_DD   1054  0.277368\n",
              "4                    NewPosts    533  0.140263\n",
              "5                  NewMembers    533  0.140263\n",
              "6                   PageViews    533  0.140263\n",
              "15              TotalBitcoins    486  0.127895\n",
              "3                 TradeVolume     11  0.002895\n",
              "9   CostPerTransactionPercent      2  0.000526\n",
              "19                     EURUSD      1  0.000263\n",
              "0                GoogleTrends      0  0.000000\n",
              "14               OutputVolume      0  0.000000\n",
              "20                     USDEUR      0  0.000000\n",
              "18                   DowJones      0  0.000000\n",
              "17         TransactionFeesUSD      0  0.000000\n",
              "16            TransactionFees      0  0.000000\n",
              "11        MedConfirmationTime      0  0.000000\n",
              "13          NumOfTransactions      0  0.000000\n",
              "12             NumOfAddresses      0  0.000000\n",
              "10     EstimTransactionVolume      0  0.000000\n",
              "8          CostPerTransaction      0  0.000000\n",
              "7                  Difficulty      0  0.000000\n",
              "2                 MarketPrice      0  0.000000\n",
              "21                   OilPrice      0  0.000000"
            ]
          },
          "metadata": {
            "tags": []
          },
          "execution_count": 64
        }
      ]
    },
    {
      "cell_type": "markdown",
      "metadata": {
        "id": "WfbhnpW-IQYr",
        "colab_type": "text"
      },
      "source": [
        "# Transformação"
      ]
    },
    {
      "cell_type": "code",
      "metadata": {
        "id": "2eHumRNlI1p8",
        "colab_type": "code",
        "colab": {}
      },
      "source": [
        "# substitui todos os zeros por NaN\n",
        "df_market2 = market\n",
        "\n",
        "df_market2.replace(0.0, np.nan, inplace=True)"
      ],
      "execution_count": null,
      "outputs": []
    },
    {
      "cell_type": "code",
      "metadata": {
        "id": "Dzj4J_hHOyjY",
        "colab_type": "code",
        "colab": {
          "base_uri": "https://localhost:8080/",
          "height": 731
        },
        "outputId": "5eff78fb-7b3f-4943-a56a-46d6e7775fbc"
      },
      "source": [
        "# informa valores vazios incluindo os zeros substituidos por nan\n",
        "empty_values2 = empty_values(data=df_market2)\n",
        "empty_values2.sort_values('Empty', ascending=False)"
      ],
      "execution_count": null,
      "outputs": [
        {
          "output_type": "execute_result",
          "data": {
            "text/html": [
              "<div>\n",
              "<style scoped>\n",
              "    .dataframe tbody tr th:only-of-type {\n",
              "        vertical-align: middle;\n",
              "    }\n",
              "\n",
              "    .dataframe tbody tr th {\n",
              "        vertical-align: top;\n",
              "    }\n",
              "\n",
              "    .dataframe thead th {\n",
              "        text-align: right;\n",
              "    }\n",
              "</style>\n",
              "<table border=\"1\" class=\"dataframe\">\n",
              "  <thead>\n",
              "    <tr style=\"text-align: right;\">\n",
              "      <th></th>\n",
              "      <th>Columns</th>\n",
              "      <th>Empty</th>\n",
              "      <th>Empty(%)</th>\n",
              "    </tr>\n",
              "  </thead>\n",
              "  <tbody>\n",
              "    <tr>\n",
              "      <th>6</th>\n",
              "      <td>PageViews</td>\n",
              "      <td>1570</td>\n",
              "      <td>0.413158</td>\n",
              "    </tr>\n",
              "    <tr>\n",
              "      <th>1</th>\n",
              "      <td>Bitcoin_DD</td>\n",
              "      <td>1316</td>\n",
              "      <td>0.346316</td>\n",
              "    </tr>\n",
              "    <tr>\n",
              "      <th>11</th>\n",
              "      <td>MedConfirmationTime</td>\n",
              "      <td>1063</td>\n",
              "      <td>0.279737</td>\n",
              "    </tr>\n",
              "    <tr>\n",
              "      <th>5</th>\n",
              "      <td>NewMembers</td>\n",
              "      <td>969</td>\n",
              "      <td>0.255000</td>\n",
              "    </tr>\n",
              "    <tr>\n",
              "      <th>4</th>\n",
              "      <td>NewPosts</td>\n",
              "      <td>894</td>\n",
              "      <td>0.235263</td>\n",
              "    </tr>\n",
              "    <tr>\n",
              "      <th>17</th>\n",
              "      <td>TransactionFeesUSD</td>\n",
              "      <td>676</td>\n",
              "      <td>0.177895</td>\n",
              "    </tr>\n",
              "    <tr>\n",
              "      <th>16</th>\n",
              "      <td>TransactionFees</td>\n",
              "      <td>631</td>\n",
              "      <td>0.166053</td>\n",
              "    </tr>\n",
              "    <tr>\n",
              "      <th>2</th>\n",
              "      <td>MarketPrice</td>\n",
              "      <td>591</td>\n",
              "      <td>0.155526</td>\n",
              "    </tr>\n",
              "    <tr>\n",
              "      <th>8</th>\n",
              "      <td>CostPerTransaction</td>\n",
              "      <td>591</td>\n",
              "      <td>0.155526</td>\n",
              "    </tr>\n",
              "    <tr>\n",
              "      <th>3</th>\n",
              "      <td>TradeVolume</td>\n",
              "      <td>571</td>\n",
              "      <td>0.150263</td>\n",
              "    </tr>\n",
              "    <tr>\n",
              "      <th>0</th>\n",
              "      <td>GoogleTrends</td>\n",
              "      <td>563</td>\n",
              "      <td>0.148158</td>\n",
              "    </tr>\n",
              "    <tr>\n",
              "      <th>15</th>\n",
              "      <td>TotalBitcoins</td>\n",
              "      <td>486</td>\n",
              "      <td>0.127895</td>\n",
              "    </tr>\n",
              "    <tr>\n",
              "      <th>10</th>\n",
              "      <td>EstimTransactionVolume</td>\n",
              "      <td>263</td>\n",
              "      <td>0.069211</td>\n",
              "    </tr>\n",
              "    <tr>\n",
              "      <th>9</th>\n",
              "      <td>CostPerTransactionPercent</td>\n",
              "      <td>263</td>\n",
              "      <td>0.069211</td>\n",
              "    </tr>\n",
              "    <tr>\n",
              "      <th>19</th>\n",
              "      <td>EURUSD</td>\n",
              "      <td>133</td>\n",
              "      <td>0.035000</td>\n",
              "    </tr>\n",
              "    <tr>\n",
              "      <th>12</th>\n",
              "      <td>NumOfAddresses</td>\n",
              "      <td>5</td>\n",
              "      <td>0.001316</td>\n",
              "    </tr>\n",
              "    <tr>\n",
              "      <th>13</th>\n",
              "      <td>NumOfTransactions</td>\n",
              "      <td>5</td>\n",
              "      <td>0.001316</td>\n",
              "    </tr>\n",
              "    <tr>\n",
              "      <th>14</th>\n",
              "      <td>OutputVolume</td>\n",
              "      <td>5</td>\n",
              "      <td>0.001316</td>\n",
              "    </tr>\n",
              "    <tr>\n",
              "      <th>7</th>\n",
              "      <td>Difficulty</td>\n",
              "      <td>5</td>\n",
              "      <td>0.001316</td>\n",
              "    </tr>\n",
              "    <tr>\n",
              "      <th>18</th>\n",
              "      <td>DowJones</td>\n",
              "      <td>0</td>\n",
              "      <td>0.000000</td>\n",
              "    </tr>\n",
              "    <tr>\n",
              "      <th>20</th>\n",
              "      <td>USDEUR</td>\n",
              "      <td>0</td>\n",
              "      <td>0.000000</td>\n",
              "    </tr>\n",
              "    <tr>\n",
              "      <th>21</th>\n",
              "      <td>OilPrice</td>\n",
              "      <td>0</td>\n",
              "      <td>0.000000</td>\n",
              "    </tr>\n",
              "  </tbody>\n",
              "</table>\n",
              "</div>"
            ],
            "text/plain": [
              "                      Columns  Empty  Empty(%)\n",
              "6                   PageViews   1570  0.413158\n",
              "1                  Bitcoin_DD   1316  0.346316\n",
              "11        MedConfirmationTime   1063  0.279737\n",
              "5                  NewMembers    969  0.255000\n",
              "4                    NewPosts    894  0.235263\n",
              "17         TransactionFeesUSD    676  0.177895\n",
              "16            TransactionFees    631  0.166053\n",
              "2                 MarketPrice    591  0.155526\n",
              "8          CostPerTransaction    591  0.155526\n",
              "3                 TradeVolume    571  0.150263\n",
              "0                GoogleTrends    563  0.148158\n",
              "15              TotalBitcoins    486  0.127895\n",
              "10     EstimTransactionVolume    263  0.069211\n",
              "9   CostPerTransactionPercent    263  0.069211\n",
              "19                     EURUSD    133  0.035000\n",
              "12             NumOfAddresses      5  0.001316\n",
              "13          NumOfTransactions      5  0.001316\n",
              "14               OutputVolume      5  0.001316\n",
              "7                  Difficulty      5  0.001316\n",
              "18                   DowJones      0  0.000000\n",
              "20                     USDEUR      0  0.000000\n",
              "21                   OilPrice      0  0.000000"
            ]
          },
          "metadata": {
            "tags": []
          },
          "execution_count": 84
        }
      ]
    },
    {
      "cell_type": "code",
      "metadata": {
        "id": "eURUQUu9T3xA",
        "colab_type": "code",
        "colab": {}
      },
      "source": [
        "# calcula o número de dados vazios em cada linha\n",
        "count_nulls = market2.isnull().sum(axis=1)"
      ],
      "execution_count": null,
      "outputs": []
    },
    {
      "cell_type": "code",
      "metadata": {
        "id": "t6TRyqgaVlxd",
        "colab_type": "code",
        "colab": {
          "base_uri": "https://localhost:8080/",
          "height": 224
        },
        "outputId": "f3d6cf01-b8a0-42f8-a64d-c61adb0deda6"
      },
      "source": [
        "# localiza os valores vazios\n",
        "columns = market2.columns\n",
        "count_nulls_market = pd.DataFrame()\n",
        "\n",
        "for row in columns:\n",
        "  if (row != 'Date'):\n",
        "    count_nulls_market[row] = market1[row].isnull().values.astype(int)\n",
        "\n",
        "count_nulls_market.head()"
      ],
      "execution_count": null,
      "outputs": [
        {
          "output_type": "execute_result",
          "data": {
            "text/html": [
              "<div>\n",
              "<style scoped>\n",
              "    .dataframe tbody tr th:only-of-type {\n",
              "        vertical-align: middle;\n",
              "    }\n",
              "\n",
              "    .dataframe tbody tr th {\n",
              "        vertical-align: top;\n",
              "    }\n",
              "\n",
              "    .dataframe thead th {\n",
              "        text-align: right;\n",
              "    }\n",
              "</style>\n",
              "<table border=\"1\" class=\"dataframe\">\n",
              "  <thead>\n",
              "    <tr style=\"text-align: right;\">\n",
              "      <th></th>\n",
              "      <th>GoogleTrends</th>\n",
              "      <th>Bitcoin_DD</th>\n",
              "      <th>MarketPrice</th>\n",
              "      <th>TradeVolume</th>\n",
              "      <th>NewPosts</th>\n",
              "      <th>NewMembers</th>\n",
              "      <th>PageViews</th>\n",
              "      <th>Difficulty</th>\n",
              "      <th>CostPerTransaction</th>\n",
              "      <th>CostPerTransactionPercent</th>\n",
              "      <th>EstimTransactionVolume</th>\n",
              "      <th>MedConfirmationTime</th>\n",
              "      <th>NumOfAddresses</th>\n",
              "      <th>NumOfTransactions</th>\n",
              "      <th>OutputVolume</th>\n",
              "      <th>TotalBitcoins</th>\n",
              "      <th>TransactionFees</th>\n",
              "      <th>TransactionFeesUSD</th>\n",
              "      <th>DowJones</th>\n",
              "      <th>EURUSD</th>\n",
              "      <th>USDEUR</th>\n",
              "      <th>OilPrice</th>\n",
              "    </tr>\n",
              "  </thead>\n",
              "  <tbody>\n",
              "    <tr>\n",
              "      <th>0</th>\n",
              "      <td>1</td>\n",
              "      <td>1</td>\n",
              "      <td>1</td>\n",
              "      <td>1</td>\n",
              "      <td>1</td>\n",
              "      <td>1</td>\n",
              "      <td>1</td>\n",
              "      <td>0</td>\n",
              "      <td>1</td>\n",
              "      <td>1</td>\n",
              "      <td>1</td>\n",
              "      <td>1</td>\n",
              "      <td>0</td>\n",
              "      <td>0</td>\n",
              "      <td>0</td>\n",
              "      <td>0</td>\n",
              "      <td>1</td>\n",
              "      <td>1</td>\n",
              "      <td>0</td>\n",
              "      <td>0</td>\n",
              "      <td>0</td>\n",
              "      <td>0</td>\n",
              "    </tr>\n",
              "    <tr>\n",
              "      <th>1</th>\n",
              "      <td>1</td>\n",
              "      <td>1</td>\n",
              "      <td>1</td>\n",
              "      <td>1</td>\n",
              "      <td>1</td>\n",
              "      <td>1</td>\n",
              "      <td>1</td>\n",
              "      <td>1</td>\n",
              "      <td>1</td>\n",
              "      <td>1</td>\n",
              "      <td>1</td>\n",
              "      <td>1</td>\n",
              "      <td>1</td>\n",
              "      <td>1</td>\n",
              "      <td>1</td>\n",
              "      <td>0</td>\n",
              "      <td>1</td>\n",
              "      <td>1</td>\n",
              "      <td>0</td>\n",
              "      <td>0</td>\n",
              "      <td>0</td>\n",
              "      <td>0</td>\n",
              "    </tr>\n",
              "    <tr>\n",
              "      <th>2</th>\n",
              "      <td>1</td>\n",
              "      <td>1</td>\n",
              "      <td>1</td>\n",
              "      <td>1</td>\n",
              "      <td>1</td>\n",
              "      <td>1</td>\n",
              "      <td>1</td>\n",
              "      <td>1</td>\n",
              "      <td>1</td>\n",
              "      <td>1</td>\n",
              "      <td>1</td>\n",
              "      <td>1</td>\n",
              "      <td>1</td>\n",
              "      <td>1</td>\n",
              "      <td>1</td>\n",
              "      <td>0</td>\n",
              "      <td>1</td>\n",
              "      <td>1</td>\n",
              "      <td>0</td>\n",
              "      <td>0</td>\n",
              "      <td>0</td>\n",
              "      <td>0</td>\n",
              "    </tr>\n",
              "    <tr>\n",
              "      <th>3</th>\n",
              "      <td>1</td>\n",
              "      <td>1</td>\n",
              "      <td>1</td>\n",
              "      <td>1</td>\n",
              "      <td>1</td>\n",
              "      <td>1</td>\n",
              "      <td>1</td>\n",
              "      <td>1</td>\n",
              "      <td>1</td>\n",
              "      <td>1</td>\n",
              "      <td>1</td>\n",
              "      <td>1</td>\n",
              "      <td>1</td>\n",
              "      <td>1</td>\n",
              "      <td>1</td>\n",
              "      <td>0</td>\n",
              "      <td>1</td>\n",
              "      <td>1</td>\n",
              "      <td>0</td>\n",
              "      <td>0</td>\n",
              "      <td>0</td>\n",
              "      <td>0</td>\n",
              "    </tr>\n",
              "    <tr>\n",
              "      <th>4</th>\n",
              "      <td>1</td>\n",
              "      <td>1</td>\n",
              "      <td>1</td>\n",
              "      <td>1</td>\n",
              "      <td>1</td>\n",
              "      <td>1</td>\n",
              "      <td>1</td>\n",
              "      <td>1</td>\n",
              "      <td>1</td>\n",
              "      <td>1</td>\n",
              "      <td>1</td>\n",
              "      <td>1</td>\n",
              "      <td>1</td>\n",
              "      <td>1</td>\n",
              "      <td>1</td>\n",
              "      <td>0</td>\n",
              "      <td>1</td>\n",
              "      <td>1</td>\n",
              "      <td>0</td>\n",
              "      <td>0</td>\n",
              "      <td>0</td>\n",
              "      <td>0</td>\n",
              "    </tr>\n",
              "  </tbody>\n",
              "</table>\n",
              "</div>"
            ],
            "text/plain": [
              "   GoogleTrends  Bitcoin_DD  MarketPrice  ...  EURUSD  USDEUR  OilPrice\n",
              "0             1           1            1  ...       0       0         0\n",
              "1             1           1            1  ...       0       0         0\n",
              "2             1           1            1  ...       0       0         0\n",
              "3             1           1            1  ...       0       0         0\n",
              "4             1           1            1  ...       0       0         0\n",
              "\n",
              "[5 rows x 22 columns]"
            ]
          },
          "metadata": {
            "tags": []
          },
          "execution_count": 115
        }
      ]
    },
    {
      "cell_type": "markdown",
      "metadata": {
        "id": "MsgQ94KeIZ4P",
        "colab_type": "text"
      },
      "source": [
        "# Exclusão"
      ]
    },
    {
      "cell_type": "markdown",
      "metadata": {
        "id": "MLW_j035yFs0",
        "colab_type": "text"
      },
      "source": [
        "Buscamos o índice do primeiro valor não vazio de Market Price para que possamos podar a nossa tabela, retirando valores vazios anteriores."
      ]
    },
    {
      "cell_type": "code",
      "metadata": {
        "id": "3_Dp8emgh13n",
        "colab_type": "code",
        "colab": {
          "base_uri": "https://localhost:8080/",
          "height": 34
        },
        "outputId": "96c4aaaf-2bed-40bb-a8ae-a9b244cb51b8"
      },
      "source": [
        "# encontra o primeiro índice com valor não vazio\n",
        "df_market2['MarketPrice'].first_valid_index()"
      ],
      "execution_count": null,
      "outputs": [
        {
          "output_type": "execute_result",
          "data": {
            "text/plain": [
              "591"
            ]
          },
          "metadata": {
            "tags": []
          },
          "execution_count": 85
        }
      ]
    },
    {
      "cell_type": "markdown",
      "metadata": {
        "id": "_bwDgnSqFNJ9",
        "colab_type": "text"
      },
      "source": [
        "O índice 591 é o primeiro valor não vazio de Market Price. Por conveniência, podemos excluir os dados anteriores para que tenhamos um novo conjunto de dados que possa ser útil para o nosso modelo."
      ]
    },
    {
      "cell_type": "code",
      "metadata": {
        "id": "8fJUb3CXCtLY",
        "colab_type": "code",
        "colab": {
          "base_uri": "https://localhost:8080/",
          "height": 204
        },
        "outputId": "c77b5eb6-c7f6-42cc-b1e0-ebd832af8777"
      },
      "source": [
        "df_market2['MarketPrice'][590:600]"
      ],
      "execution_count": null,
      "outputs": [
        {
          "output_type": "execute_result",
          "data": {
            "text/plain": [
              "590     NaN\n",
              "591    0.08\n",
              "592    0.07\n",
              "593    0.07\n",
              "594    0.07\n",
              "595    0.07\n",
              "596    0.07\n",
              "597    0.07\n",
              "598    0.07\n",
              "599    0.07\n",
              "Name: MarketPrice, dtype: float64"
            ]
          },
          "metadata": {
            "tags": []
          },
          "execution_count": 86
        }
      ]
    },
    {
      "cell_type": "code",
      "metadata": {
        "id": "4Wn21IN1Gprv",
        "colab_type": "code",
        "colab": {
          "base_uri": "https://localhost:8080/",
          "height": 309
        },
        "outputId": "e098035d-41ee-48f4-bc8f-4bdaac605269"
      },
      "source": [
        "# exclui valores vazios de market price\n",
        "df_market2.drop(range(0,591), axis=0, inplace=True)\n",
        "df_market2.head()"
      ],
      "execution_count": null,
      "outputs": [
        {
          "output_type": "execute_result",
          "data": {
            "text/html": [
              "<div>\n",
              "<style scoped>\n",
              "    .dataframe tbody tr th:only-of-type {\n",
              "        vertical-align: middle;\n",
              "    }\n",
              "\n",
              "    .dataframe tbody tr th {\n",
              "        vertical-align: top;\n",
              "    }\n",
              "\n",
              "    .dataframe thead th {\n",
              "        text-align: right;\n",
              "    }\n",
              "</style>\n",
              "<table border=\"1\" class=\"dataframe\">\n",
              "  <thead>\n",
              "    <tr style=\"text-align: right;\">\n",
              "      <th></th>\n",
              "      <th>Date</th>\n",
              "      <th>GoogleTrends</th>\n",
              "      <th>Bitcoin_DD</th>\n",
              "      <th>MarketPrice</th>\n",
              "      <th>TradeVolume</th>\n",
              "      <th>NewPosts</th>\n",
              "      <th>NewMembers</th>\n",
              "      <th>PageViews</th>\n",
              "      <th>Difficulty</th>\n",
              "      <th>CostPerTransaction</th>\n",
              "      <th>CostPerTransactionPercent</th>\n",
              "      <th>EstimTransactionVolume</th>\n",
              "      <th>MedConfirmationTime</th>\n",
              "      <th>NumOfAddresses</th>\n",
              "      <th>NumOfTransactions</th>\n",
              "      <th>OutputVolume</th>\n",
              "      <th>TotalBitcoins</th>\n",
              "      <th>TransactionFees</th>\n",
              "      <th>TransactionFeesUSD</th>\n",
              "      <th>DowJones</th>\n",
              "      <th>EURUSD</th>\n",
              "      <th>USDEUR</th>\n",
              "      <th>OilPrice</th>\n",
              "    </tr>\n",
              "  </thead>\n",
              "  <tbody>\n",
              "    <tr>\n",
              "      <th>590</th>\n",
              "      <td>2010-08-16</td>\n",
              "      <td>25.0</td>\n",
              "      <td>134739.0</td>\n",
              "      <td>NaN</td>\n",
              "      <td>643.89</td>\n",
              "      <td>253.0</td>\n",
              "      <td>23.0</td>\n",
              "      <td>NaN</td>\n",
              "      <td>511.77</td>\n",
              "      <td>NaN</td>\n",
              "      <td>31.63</td>\n",
              "      <td>18336.0</td>\n",
              "      <td>NaN</td>\n",
              "      <td>387.0</td>\n",
              "      <td>318.0</td>\n",
              "      <td>41918.88</td>\n",
              "      <td>3737700.0</td>\n",
              "      <td>NaN</td>\n",
              "      <td>NaN</td>\n",
              "      <td>10302.01</td>\n",
              "      <td>1.28</td>\n",
              "      <td>0.78</td>\n",
              "      <td>72.27</td>\n",
              "    </tr>\n",
              "    <tr>\n",
              "      <th>592</th>\n",
              "      <td>2010-08-18</td>\n",
              "      <td>12.0</td>\n",
              "      <td>394865.0</td>\n",
              "      <td>0.07</td>\n",
              "      <td>206.78</td>\n",
              "      <td>179.0</td>\n",
              "      <td>13.0</td>\n",
              "      <td>NaN</td>\n",
              "      <td>511.77</td>\n",
              "      <td>1.31</td>\n",
              "      <td>18.58</td>\n",
              "      <td>35791.0</td>\n",
              "      <td>NaN</td>\n",
              "      <td>449.0</td>\n",
              "      <td>377.0</td>\n",
              "      <td>52829.65</td>\n",
              "      <td>3750900.0</td>\n",
              "      <td>1.56</td>\n",
              "      <td>0.12</td>\n",
              "      <td>10415.54</td>\n",
              "      <td>1.29</td>\n",
              "      <td>0.78</td>\n",
              "      <td>73.05</td>\n",
              "    </tr>\n",
              "    <tr>\n",
              "      <th>593</th>\n",
              "      <td>2010-08-19</td>\n",
              "      <td>13.0</td>\n",
              "      <td>236163.0</td>\n",
              "      <td>0.07</td>\n",
              "      <td>51.88</td>\n",
              "      <td>152.0</td>\n",
              "      <td>18.0</td>\n",
              "      <td>NaN</td>\n",
              "      <td>511.77</td>\n",
              "      <td>1.31</td>\n",
              "      <td>50.89</td>\n",
              "      <td>13756.0</td>\n",
              "      <td>NaN</td>\n",
              "      <td>395.0</td>\n",
              "      <td>368.0</td>\n",
              "      <td>32027.42</td>\n",
              "      <td>3757900.0</td>\n",
              "      <td>NaN</td>\n",
              "      <td>NaN</td>\n",
              "      <td>10271.21</td>\n",
              "      <td>1.28</td>\n",
              "      <td>0.78</td>\n",
              "      <td>73.03</td>\n",
              "    </tr>\n",
              "    <tr>\n",
              "      <th>594</th>\n",
              "      <td>2010-08-20</td>\n",
              "      <td>13.0</td>\n",
              "      <td>125762.0</td>\n",
              "      <td>0.07</td>\n",
              "      <td>293.98</td>\n",
              "      <td>200.0</td>\n",
              "      <td>20.0</td>\n",
              "      <td>NaN</td>\n",
              "      <td>511.77</td>\n",
              "      <td>1.40</td>\n",
              "      <td>39.49</td>\n",
              "      <td>21143.0</td>\n",
              "      <td>NaN</td>\n",
              "      <td>433.0</td>\n",
              "      <td>398.0</td>\n",
              "      <td>36647.52</td>\n",
              "      <td>3766250.0</td>\n",
              "      <td>NaN</td>\n",
              "      <td>NaN</td>\n",
              "      <td>10213.62</td>\n",
              "      <td>1.27</td>\n",
              "      <td>0.79</td>\n",
              "      <td>71.78</td>\n",
              "    </tr>\n",
              "    <tr>\n",
              "      <th>595</th>\n",
              "      <td>2010-08-21</td>\n",
              "      <td>NaN</td>\n",
              "      <td>153983.0</td>\n",
              "      <td>0.07</td>\n",
              "      <td>731.07</td>\n",
              "      <td>100.0</td>\n",
              "      <td>22.0</td>\n",
              "      <td>NaN</td>\n",
              "      <td>511.77</td>\n",
              "      <td>1.77</td>\n",
              "      <td>52.71</td>\n",
              "      <td>17456.0</td>\n",
              "      <td>NaN</td>\n",
              "      <td>396.0</td>\n",
              "      <td>348.0</td>\n",
              "      <td>33790.41</td>\n",
              "      <td>3775450.0</td>\n",
              "      <td>NaN</td>\n",
              "      <td>NaN</td>\n",
              "      <td>10213.62</td>\n",
              "      <td>1.27</td>\n",
              "      <td>0.79</td>\n",
              "      <td>71.78</td>\n",
              "    </tr>\n",
              "  </tbody>\n",
              "</table>\n",
              "</div>"
            ],
            "text/plain": [
              "           Date  GoogleTrends  Bitcoin_DD  ...  EURUSD  USDEUR  OilPrice\n",
              "590  2010-08-16          25.0    134739.0  ...    1.28    0.78     72.27\n",
              "592  2010-08-18          12.0    394865.0  ...    1.29    0.78     73.05\n",
              "593  2010-08-19          13.0    236163.0  ...    1.28    0.78     73.03\n",
              "594  2010-08-20          13.0    125762.0  ...    1.27    0.79     71.78\n",
              "595  2010-08-21           NaN    153983.0  ...    1.27    0.79     71.78\n",
              "\n",
              "[5 rows x 23 columns]"
            ]
          },
          "metadata": {
            "tags": []
          },
          "execution_count": 106
        }
      ]
    },
    {
      "cell_type": "markdown",
      "metadata": {
        "id": "CY3vVLSQOQPj",
        "colab_type": "text"
      },
      "source": [
        "Com a exclusão dos valores vazios de market price, temos um novo conjunto. Vejamos:"
      ]
    },
    {
      "cell_type": "code",
      "metadata": {
        "id": "C2sJBgrkON8V",
        "colab_type": "code",
        "colab": {
          "base_uri": "https://localhost:8080/",
          "height": 935
        },
        "outputId": "472b8a59-955b-4fb5-84c7-67c99de2a9cc"
      },
      "source": [
        "# soma de vazios e valores de cada coluna\n",
        "df_market2.isnull().sum(), df_market2.info()"
      ],
      "execution_count": null,
      "outputs": [
        {
          "output_type": "stream",
          "text": [
            "<class 'pandas.core.frame.DataFrame'>\n",
            "Int64Index: 3209 entries, 590 to 3799\n",
            "Data columns (total 23 columns):\n",
            " #   Column                     Non-Null Count  Dtype  \n",
            "---  ------                     --------------  -----  \n",
            " 0   Date                       3209 non-null   object \n",
            " 1   GoogleTrends               3181 non-null   float64\n",
            " 2   Bitcoin_DD                 2154 non-null   float64\n",
            " 3   MarketPrice                3208 non-null   float64\n",
            " 4   TradeVolume                3198 non-null   float64\n",
            " 5   NewPosts                   2671 non-null   float64\n",
            " 6   NewMembers                 2655 non-null   float64\n",
            " 7   PageViews                  2230 non-null   float64\n",
            " 8   Difficulty                 3209 non-null   float64\n",
            " 9   CostPerTransaction         3208 non-null   float64\n",
            " 10  CostPerTransactionPercent  3209 non-null   float64\n",
            " 11  EstimTransactionVolume     3209 non-null   float64\n",
            " 12  MedConfirmationTime        2737 non-null   float64\n",
            " 13  NumOfAddresses             3209 non-null   float64\n",
            " 14  NumOfTransactions          3209 non-null   float64\n",
            " 15  OutputVolume               3209 non-null   float64\n",
            " 16  TotalBitcoins              2723 non-null   float64\n",
            " 17  TransactionFees            3136 non-null   float64\n",
            " 18  TransactionFeesUSD         3123 non-null   float64\n",
            " 19  DowJones                   3209 non-null   float64\n",
            " 20  EURUSD                     3092 non-null   float64\n",
            " 21  USDEUR                     3209 non-null   float64\n",
            " 22  OilPrice                   3209 non-null   float64\n",
            "dtypes: float64(22), object(1)\n",
            "memory usage: 601.7+ KB\n"
          ],
          "name": "stdout"
        },
        {
          "output_type": "execute_result",
          "data": {
            "text/plain": [
              "(Date                            0\n",
              " GoogleTrends                   28\n",
              " Bitcoin_DD                   1055\n",
              " MarketPrice                     1\n",
              " TradeVolume                    11\n",
              " NewPosts                      538\n",
              " NewMembers                    554\n",
              " PageViews                     979\n",
              " Difficulty                      0\n",
              " CostPerTransaction              1\n",
              " CostPerTransactionPercent       0\n",
              " EstimTransactionVolume          0\n",
              " MedConfirmationTime           472\n",
              " NumOfAddresses                  0\n",
              " NumOfTransactions               0\n",
              " OutputVolume                    0\n",
              " TotalBitcoins                 486\n",
              " TransactionFees                73\n",
              " TransactionFeesUSD             86\n",
              " DowJones                        0\n",
              " EURUSD                        117\n",
              " USDEUR                          0\n",
              " OilPrice                        0\n",
              " dtype: int64, None)"
            ]
          },
          "metadata": {
            "tags": []
          },
          "execution_count": 112
        }
      ]
    },
    {
      "cell_type": "code",
      "metadata": {
        "id": "OnvJVXGzSAdX",
        "colab_type": "code",
        "colab": {
          "base_uri": "https://localhost:8080/",
          "height": 483
        },
        "outputId": "4ff2702a-0178-4227-e633-20a51b39c60e"
      },
      "source": [
        "# soma de valores nulos por dia\n",
        "fig = plt.figure(figsize=(16,8))\n",
        "ax = plt.axes()\n",
        "ax.plot(market2['Date'], count_nulls,'-r')\n",
        "start, end = ax.get_xlim()\n",
        "ax.xaxis.set_ticks(np.arange(start, end, 365))\n",
        "fig.show();"
      ],
      "execution_count": null,
      "outputs": [
        {
          "output_type": "display_data",
          "data": {
            "image/png": "[encoded data removed]",
            "text/plain": [
              "<Figure size 1152x576 with 1 Axes>"
            ]
          },
          "metadata": {
            "tags": [],
            "needs_background": "light"
          }
        }
      ]
    },
    {
      "cell_type": "markdown",
      "metadata": {
        "id": "u7UcHSbEXu2z",
        "colab_type": "text"
      },
      "source": [
        "Pode-se ver, acima, que há um intervalo muito grande de dados vazios que corresponde a mais 50% da base. Os dados vazios aparecem inclusive concentrados em datas onde o movimento da variável explicada é muito grande (Lado direito).\n",
        "\n",
        "Alternativas para lidar com esse problema:\n",
        "\n",
        "* Selecionar somente o intervalo, concentrados no meio do gráfico, e realizar a exclusão dos dados extremos;\n",
        "* Selecionar apenas as features com menos valores vazios;\n",
        "* Selecionar do intervalo do meio para a direita, excluindo features com grandes intervalos de vazios;"
      ]
    },
    {
      "cell_type": "code",
      "metadata": {
        "id": "ZI5bQBMOb5Pp",
        "colab_type": "code",
        "colab": {}
      },
      "source": [
        "# soma de valores nulos por dia\n",
        "fig = plt.figure(figsize=(16,8))\n",
        "ax = plt.axes()\n",
        "ax.plot(market1['Date'], count_nulls_market['MarketPrice'],'-r')\n",
        "start, end = ax.get_xlim()\n",
        "ax.xaxis.set_ticks(np.arange(start, end, 365))\n",
        "fig.show();"
      ],
      "execution_count": null,
      "outputs": []
    },
    {
      "cell_type": "code",
      "metadata": {
        "id": "2npKI9LhcAHh",
        "colab_type": "code",
        "colab": {}
      },
      "source": [
        "# soma de valores nulos por dia\n",
        "fig = plt.figure(figsize=(16,8))\n",
        "ax = plt.axes()\n",
        "ax.plot(market1['Date'], count_nulls_market['GoogleTrends'],'-r')\n",
        "start, end = ax.get_xlim()\n",
        "ax.xaxis.set_ticks(np.arange(start, end, 365))\n",
        "fig.show();"
      ],
      "execution_count": null,
      "outputs": []
    },
    {
      "cell_type": "code",
      "metadata": {
        "id": "CJVrhDg2clvw",
        "colab_type": "code",
        "colab": {}
      },
      "source": [
        ""
      ],
      "execution_count": null,
      "outputs": []
    }
  ]
}