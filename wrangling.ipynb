{
  "nbformat": 4,
  "nbformat_minor": 0,
  "metadata": {
    "kernelspec": {
      "display_name": "Python 3",
      "language": "python",
      "name": "python3"
    },
    "language_info": {
      "codemirror_mode": {
        "name": "ipython",
        "version": 3
      },
      "file_extension": ".py",
      "mimetype": "text/x-python",
      "name": "python",
      "nbconvert_exporter": "python",
      "pygments_lexer": "ipython3",
      "version": "3.7.3"
    },
    "colab": {
      "name": "wrangling",
      "provenance": [],
      "collapsed_sections": [],
      "include_colab_link": true
    }
  },
  "cells": [
    {
      "cell_type": "markdown",
      "metadata": {
        "id": "view-in-github",
        "colab_type": "text"
      },
      "source": [
        "<a href=\"https://colab.research.google.com/github/wallisonferreira/analise-exploratoria-mercados/blob/master/wrangling.ipynb\" target=\"_parent\"><img src=\"https://colab.research.google.com/assets/colab-badge.svg\" alt=\"Open In Colab\"/></a>"
      ]
    },
    {
      "cell_type": "code",
      "metadata": {
        "id": "7A0movNavqPf",
        "colab_type": "code",
        "colab": {
          "base_uri": "https://localhost:8080/",
          "height": 122
        },
        "outputId": "4a291266-0795-463c-b130-6b57a3679ad1"
      },
      "source": [
        "from google.colab import drive\n",
        "drive.mount('/content/drive')"
      ],
      "execution_count": 1,
      "outputs": [
        {
          "output_type": "stream",
          "text": [
            "Go to this URL in a browser: https://accounts.google.com/o/oauth2/auth?client_id=947318989803-6bn6qk8qdgf4n4g3pfee6491hc0brc4i.apps.googleusercontent.com&redirect_uri=urn%3aietf%3awg%3aoauth%3a2.0%3aoob&response_type=code&scope=email%20https%3a%2f%2fwww.googleapis.com%2fauth%2fdocs.test%20https%3a%2f%2fwww.googleapis.com%2fauth%2fdrive%20https%3a%2f%2fwww.googleapis.com%2fauth%2fdrive.photos.readonly%20https%3a%2f%2fwww.googleapis.com%2fauth%2fpeopleapi.readonly\n",
            "\n",
            "Enter your authorization code:\n",
            "··········\n",
            "Mounted at /content/drive\n"
          ],
          "name": "stdout"
        }
      ]
    },
    {
      "cell_type": "markdown",
      "metadata": {
        "id": "mVorQE5Q-Ajt",
        "colab_type": "text"
      },
      "source": [
        "# Data Wrangling\n",
        "\n",
        "<p style=\"text-align:justify\">Neste arquivo será feito tarefas de manipulação de dados usando técnicas de seleção de dados, limpeza, tratamento e exclusão de valores vazios, transformação e junção de dados. Esta tarefa é pré-requisito para a qualidade da visualização e análise dos dados. Os dados serão transformados para um formato conveniente no intuito de diminuir os impactos negativos sobre esta análise.</p>"
      ]
    },
    {
      "cell_type": "code",
      "metadata": {
        "id": "K_HQchoC-vrY",
        "colab_type": "code",
        "colab": {
          "base_uri": "https://localhost:8080/",
          "height": 326
        },
        "outputId": "a72eaa00-2612-4f78-a118-17e0dc544e2c"
      },
      "source": [
        "# invite people to the party\n",
        "import pandas as pd\n",
        "import numpy as np\n",
        "!pip install quandl\n",
        "import quandl"
      ],
      "execution_count": 2,
      "outputs": [
        {
          "output_type": "stream",
          "text": [
            "Collecting quandl\n",
            "  Downloading https://files.pythonhosted.org/packages/21/ce/281f4ae2554ba676735157a91205e808af149e97be534d6a1b9196638e63/Quandl-3.5.1-py2.py3-none-any.whl\n",
            "Requirement already satisfied: python-dateutil in /usr/local/lib/python3.6/dist-packages (from quandl) (2.8.1)\n",
            "Requirement already satisfied: numpy>=1.8 in /usr/local/lib/python3.6/dist-packages (from quandl) (1.18.5)\n",
            "Requirement already satisfied: six in /usr/local/lib/python3.6/dist-packages (from quandl) (1.12.0)\n",
            "Requirement already satisfied: more-itertools in /usr/local/lib/python3.6/dist-packages (from quandl) (8.4.0)\n",
            "Requirement already satisfied: requests>=2.7.0 in /usr/local/lib/python3.6/dist-packages (from quandl) (2.23.0)\n",
            "Collecting inflection>=0.3.1\n",
            "  Downloading https://files.pythonhosted.org/packages/d2/cd/f04c661d1b5ba6b7d77008e8fedd28a27a683eeeffcd93c6b2dbe54ea983/inflection-0.5.0-py2.py3-none-any.whl\n",
            "Requirement already satisfied: pandas>=0.14 in /usr/local/lib/python3.6/dist-packages (from quandl) (1.0.5)\n",
            "Requirement already satisfied: certifi>=2017.4.17 in /usr/local/lib/python3.6/dist-packages (from requests>=2.7.0->quandl) (2020.6.20)\n",
            "Requirement already satisfied: chardet<4,>=3.0.2 in /usr/local/lib/python3.6/dist-packages (from requests>=2.7.0->quandl) (3.0.4)\n",
            "Requirement already satisfied: idna<3,>=2.5 in /usr/local/lib/python3.6/dist-packages (from requests>=2.7.0->quandl) (2.9)\n",
            "Requirement already satisfied: urllib3!=1.25.0,!=1.25.1,<1.26,>=1.21.1 in /usr/local/lib/python3.6/dist-packages (from requests>=2.7.0->quandl) (1.24.3)\n",
            "Requirement already satisfied: pytz>=2017.2 in /usr/local/lib/python3.6/dist-packages (from pandas>=0.14->quandl) (2018.9)\n",
            "Installing collected packages: inflection, quandl\n",
            "Successfully installed inflection-0.5.0 quandl-3.5.1\n"
          ],
          "name": "stdout"
        }
      ]
    },
    {
      "cell_type": "markdown",
      "metadata": {
        "id": "ZXH0ywaL-Aj8",
        "colab_type": "text"
      },
      "source": [
        "#### Wrangling for Oil Price data"
      ]
    },
    {
      "cell_type": "code",
      "metadata": {
        "id": "4rBj0fGi-Aj-",
        "colab_type": "code",
        "colab": {}
      },
      "source": [
        "# import data from quandl\n",
        "oil_price = quandl.get(\"OPEC/ORB\", start_date=\"2009-01-01\", end_date=\"2019-05-30\")"
      ],
      "execution_count": null,
      "outputs": []
    },
    {
      "cell_type": "code",
      "metadata": {
        "id": "0WTSiQdv-AkJ",
        "colab_type": "code",
        "colab": {}
      },
      "source": [
        "# reset index\n",
        "oil_price.reset_index(inplace=True)"
      ],
      "execution_count": null,
      "outputs": []
    },
    {
      "cell_type": "code",
      "metadata": {
        "id": "_1MB-B_3-AkS",
        "colab_type": "code",
        "colab": {
          "base_uri": "https://localhost:8080/",
          "height": 204
        },
        "outputId": "a51b4a34-9805-46a4-844b-10222ecd6c83"
      },
      "source": [
        "# Visualising data\n",
        "oil_price.head()"
      ],
      "execution_count": null,
      "outputs": [
        {
          "output_type": "execute_result",
          "data": {
            "text/html": [
              "<div>\n",
              "<style scoped>\n",
              "    .dataframe tbody tr th:only-of-type {\n",
              "        vertical-align: middle;\n",
              "    }\n",
              "\n",
              "    .dataframe tbody tr th {\n",
              "        vertical-align: top;\n",
              "    }\n",
              "\n",
              "    .dataframe thead th {\n",
              "        text-align: right;\n",
              "    }\n",
              "</style>\n",
              "<table border=\"1\" class=\"dataframe\">\n",
              "  <thead>\n",
              "    <tr style=\"text-align: right;\">\n",
              "      <th></th>\n",
              "      <th>Date</th>\n",
              "      <th>Value</th>\n",
              "    </tr>\n",
              "  </thead>\n",
              "  <tbody>\n",
              "    <tr>\n",
              "      <th>0</th>\n",
              "      <td>2009-01-02</td>\n",
              "      <td>40.44</td>\n",
              "    </tr>\n",
              "    <tr>\n",
              "      <th>1</th>\n",
              "      <td>2009-01-05</td>\n",
              "      <td>43.98</td>\n",
              "    </tr>\n",
              "    <tr>\n",
              "      <th>2</th>\n",
              "      <td>2009-01-06</td>\n",
              "      <td>46.32</td>\n",
              "    </tr>\n",
              "    <tr>\n",
              "      <th>3</th>\n",
              "      <td>2009-01-07</td>\n",
              "      <td>45.43</td>\n",
              "    </tr>\n",
              "    <tr>\n",
              "      <th>4</th>\n",
              "      <td>2009-01-08</td>\n",
              "      <td>42.06</td>\n",
              "    </tr>\n",
              "  </tbody>\n",
              "</table>\n",
              "</div>"
            ],
            "text/plain": [
              "        Date  Value\n",
              "0 2009-01-02  40.44\n",
              "1 2009-01-05  43.98\n",
              "2 2009-01-06  46.32\n",
              "3 2009-01-07  45.43\n",
              "4 2009-01-08  42.06"
            ]
          },
          "metadata": {
            "tags": []
          },
          "execution_count": 5
        }
      ]
    },
    {
      "cell_type": "code",
      "metadata": {
        "id": "Siv2Ggf1-Aka",
        "colab_type": "code",
        "colab": {
          "base_uri": "https://localhost:8080/",
          "height": 419
        },
        "outputId": "60b2e4e4-c44e-4be0-9d9c-5ec633e66dd5"
      },
      "source": [
        "# rename column\n",
        "oil_price.rename(columns={\"Value\":\"OilPrice\"})"
      ],
      "execution_count": null,
      "outputs": [
        {
          "output_type": "execute_result",
          "data": {
            "text/html": [
              "<div>\n",
              "<style scoped>\n",
              "    .dataframe tbody tr th:only-of-type {\n",
              "        vertical-align: middle;\n",
              "    }\n",
              "\n",
              "    .dataframe tbody tr th {\n",
              "        vertical-align: top;\n",
              "    }\n",
              "\n",
              "    .dataframe thead th {\n",
              "        text-align: right;\n",
              "    }\n",
              "</style>\n",
              "<table border=\"1\" class=\"dataframe\">\n",
              "  <thead>\n",
              "    <tr style=\"text-align: right;\">\n",
              "      <th></th>\n",
              "      <th>Date</th>\n",
              "      <th>OilPrice</th>\n",
              "    </tr>\n",
              "  </thead>\n",
              "  <tbody>\n",
              "    <tr>\n",
              "      <th>0</th>\n",
              "      <td>2009-01-02</td>\n",
              "      <td>40.44</td>\n",
              "    </tr>\n",
              "    <tr>\n",
              "      <th>1</th>\n",
              "      <td>2009-01-05</td>\n",
              "      <td>43.98</td>\n",
              "    </tr>\n",
              "    <tr>\n",
              "      <th>2</th>\n",
              "      <td>2009-01-06</td>\n",
              "      <td>46.32</td>\n",
              "    </tr>\n",
              "    <tr>\n",
              "      <th>3</th>\n",
              "      <td>2009-01-07</td>\n",
              "      <td>45.43</td>\n",
              "    </tr>\n",
              "    <tr>\n",
              "      <th>4</th>\n",
              "      <td>2009-01-08</td>\n",
              "      <td>42.06</td>\n",
              "    </tr>\n",
              "    <tr>\n",
              "      <th>...</th>\n",
              "      <td>...</td>\n",
              "      <td>...</td>\n",
              "    </tr>\n",
              "    <tr>\n",
              "      <th>2680</th>\n",
              "      <td>2019-05-24</td>\n",
              "      <td>67.40</td>\n",
              "    </tr>\n",
              "    <tr>\n",
              "      <th>2681</th>\n",
              "      <td>2019-05-27</td>\n",
              "      <td>67.42</td>\n",
              "    </tr>\n",
              "    <tr>\n",
              "      <th>2682</th>\n",
              "      <td>2019-05-28</td>\n",
              "      <td>68.84</td>\n",
              "    </tr>\n",
              "    <tr>\n",
              "      <th>2683</th>\n",
              "      <td>2019-05-29</td>\n",
              "      <td>67.75</td>\n",
              "    </tr>\n",
              "    <tr>\n",
              "      <th>2684</th>\n",
              "      <td>2019-05-30</td>\n",
              "      <td>67.10</td>\n",
              "    </tr>\n",
              "  </tbody>\n",
              "</table>\n",
              "<p>2685 rows × 2 columns</p>\n",
              "</div>"
            ],
            "text/plain": [
              "           Date  OilPrice\n",
              "0    2009-01-02     40.44\n",
              "1    2009-01-05     43.98\n",
              "2    2009-01-06     46.32\n",
              "3    2009-01-07     45.43\n",
              "4    2009-01-08     42.06\n",
              "...         ...       ...\n",
              "2680 2019-05-24     67.40\n",
              "2681 2019-05-27     67.42\n",
              "2682 2019-05-28     68.84\n",
              "2683 2019-05-29     67.75\n",
              "2684 2019-05-30     67.10\n",
              "\n",
              "[2685 rows x 2 columns]"
            ]
          },
          "metadata": {
            "tags": []
          },
          "execution_count": 6
        }
      ]
    },
    {
      "cell_type": "code",
      "metadata": {
        "id": "JPmXGJdA-Aki",
        "colab_type": "code",
        "colab": {
          "base_uri": "https://localhost:8080/",
          "height": 204
        },
        "outputId": "530b7bad-dda0-427e-8536-f717a470a4d9"
      },
      "source": [
        "oil_price.head()"
      ],
      "execution_count": null,
      "outputs": [
        {
          "output_type": "execute_result",
          "data": {
            "text/html": [
              "<div>\n",
              "<style scoped>\n",
              "    .dataframe tbody tr th:only-of-type {\n",
              "        vertical-align: middle;\n",
              "    }\n",
              "\n",
              "    .dataframe tbody tr th {\n",
              "        vertical-align: top;\n",
              "    }\n",
              "\n",
              "    .dataframe thead th {\n",
              "        text-align: right;\n",
              "    }\n",
              "</style>\n",
              "<table border=\"1\" class=\"dataframe\">\n",
              "  <thead>\n",
              "    <tr style=\"text-align: right;\">\n",
              "      <th></th>\n",
              "      <th>Date</th>\n",
              "      <th>Value</th>\n",
              "    </tr>\n",
              "  </thead>\n",
              "  <tbody>\n",
              "    <tr>\n",
              "      <th>0</th>\n",
              "      <td>2009-01-02</td>\n",
              "      <td>40.44</td>\n",
              "    </tr>\n",
              "    <tr>\n",
              "      <th>1</th>\n",
              "      <td>2009-01-05</td>\n",
              "      <td>43.98</td>\n",
              "    </tr>\n",
              "    <tr>\n",
              "      <th>2</th>\n",
              "      <td>2009-01-06</td>\n",
              "      <td>46.32</td>\n",
              "    </tr>\n",
              "    <tr>\n",
              "      <th>3</th>\n",
              "      <td>2009-01-07</td>\n",
              "      <td>45.43</td>\n",
              "    </tr>\n",
              "    <tr>\n",
              "      <th>4</th>\n",
              "      <td>2009-01-08</td>\n",
              "      <td>42.06</td>\n",
              "    </tr>\n",
              "  </tbody>\n",
              "</table>\n",
              "</div>"
            ],
            "text/plain": [
              "        Date  Value\n",
              "0 2009-01-02  40.44\n",
              "1 2009-01-05  43.98\n",
              "2 2009-01-06  46.32\n",
              "3 2009-01-07  45.43\n",
              "4 2009-01-08  42.06"
            ]
          },
          "metadata": {
            "tags": []
          },
          "execution_count": 7
        }
      ]
    },
    {
      "cell_type": "code",
      "metadata": {
        "id": "AQ84GPQEAS0U",
        "colab_type": "code",
        "colab": {}
      },
      "source": [
        "# Save file in samples directory\n",
        "#oil_price.to_csv(\"/content/drive/My Drive/Análise Exploratória/Dados/oil_price.csv\")"
      ],
      "execution_count": null,
      "outputs": []
    },
    {
      "cell_type": "markdown",
      "metadata": {
        "id": "Ohcmgrip-Aks",
        "colab_type": "text"
      },
      "source": [
        "#### Wrangling for S&P 500 data"
      ]
    },
    {
      "cell_type": "code",
      "metadata": {
        "id": "JX1ojVu--Aku",
        "colab_type": "code",
        "colab": {}
      },
      "source": [
        "# Importing data from file\n",
        "sp500 = pd.read_csv(\"/content/drive/My Drive/Análise Exploratória/Dados/HistoricalPrices-2.csv\")"
      ],
      "execution_count": null,
      "outputs": []
    },
    {
      "cell_type": "code",
      "metadata": {
        "id": "jsgp-EUI-Ak4",
        "colab_type": "code",
        "colab": {}
      },
      "source": [
        "# Removing white spaces from column names\n",
        "sp500.columns = sp500.columns.str.replace(' ','')"
      ],
      "execution_count": null,
      "outputs": []
    },
    {
      "cell_type": "code",
      "metadata": {
        "id": "Xy83hYj0-Ak_",
        "colab_type": "code",
        "colab": {}
      },
      "source": [
        "# Transforming the Column Date for Datetime\n",
        "sp500['Date'] = sp500['Date'].astype('datetime64[ns]')"
      ],
      "execution_count": null,
      "outputs": []
    },
    {
      "cell_type": "code",
      "metadata": {
        "id": "q5avoxEh-AlF",
        "colab_type": "code",
        "colab": {
          "base_uri": "https://localhost:8080/",
          "height": 119
        },
        "outputId": "27e29a02-ad4f-4e73-a3cf-9a0d5a170dbd"
      },
      "source": [
        "# Types of data\n",
        "sp500.dtypes"
      ],
      "execution_count": null,
      "outputs": [
        {
          "output_type": "execute_result",
          "data": {
            "text/plain": [
              "Date     datetime64[ns]\n",
              "Open            float64\n",
              "High            float64\n",
              "Low             float64\n",
              "Close           float64\n",
              "dtype: object"
            ]
          },
          "metadata": {
            "tags": []
          },
          "execution_count": 13
        }
      ]
    },
    {
      "cell_type": "code",
      "metadata": {
        "id": "FMLY1udb-AlL",
        "colab_type": "code",
        "colab": {}
      },
      "source": [
        "# Select columns\n",
        "sp500 = sp500[['Date', 'Close']]"
      ],
      "execution_count": null,
      "outputs": []
    },
    {
      "cell_type": "code",
      "metadata": {
        "id": "90i5pz8M-AlR",
        "colab_type": "code",
        "colab": {}
      },
      "source": [
        "# sorting data\n",
        "sp500 = sp500.sort_values(['Date'], ascending = True)"
      ],
      "execution_count": null,
      "outputs": []
    },
    {
      "cell_type": "code",
      "metadata": {
        "id": "Dd7EpIc--Alj",
        "colab_type": "code",
        "colab": {
          "base_uri": "https://localhost:8080/",
          "height": 204
        },
        "outputId": "7ec50590-4c1c-4ae6-aa3c-ee8caf67c4e0"
      },
      "source": [
        "# visualising data\n",
        "sp500.head()"
      ],
      "execution_count": null,
      "outputs": [
        {
          "output_type": "execute_result",
          "data": {
            "text/html": [
              "<div>\n",
              "<style scoped>\n",
              "    .dataframe tbody tr th:only-of-type {\n",
              "        vertical-align: middle;\n",
              "    }\n",
              "\n",
              "    .dataframe tbody tr th {\n",
              "        vertical-align: top;\n",
              "    }\n",
              "\n",
              "    .dataframe thead th {\n",
              "        text-align: right;\n",
              "    }\n",
              "</style>\n",
              "<table border=\"1\" class=\"dataframe\">\n",
              "  <thead>\n",
              "    <tr style=\"text-align: right;\">\n",
              "      <th></th>\n",
              "      <th>Date</th>\n",
              "      <th>Close</th>\n",
              "    </tr>\n",
              "  </thead>\n",
              "  <tbody>\n",
              "    <tr>\n",
              "      <th>2617</th>\n",
              "      <td>2009-01-05</td>\n",
              "      <td>927.45</td>\n",
              "    </tr>\n",
              "    <tr>\n",
              "      <th>2616</th>\n",
              "      <td>2009-01-06</td>\n",
              "      <td>934.70</td>\n",
              "    </tr>\n",
              "    <tr>\n",
              "      <th>2615</th>\n",
              "      <td>2009-01-07</td>\n",
              "      <td>906.65</td>\n",
              "    </tr>\n",
              "    <tr>\n",
              "      <th>2614</th>\n",
              "      <td>2009-01-08</td>\n",
              "      <td>909.73</td>\n",
              "    </tr>\n",
              "    <tr>\n",
              "      <th>2613</th>\n",
              "      <td>2009-01-09</td>\n",
              "      <td>890.35</td>\n",
              "    </tr>\n",
              "  </tbody>\n",
              "</table>\n",
              "</div>"
            ],
            "text/plain": [
              "           Date   Close\n",
              "2617 2009-01-05  927.45\n",
              "2616 2009-01-06  934.70\n",
              "2615 2009-01-07  906.65\n",
              "2614 2009-01-08  909.73\n",
              "2613 2009-01-09  890.35"
            ]
          },
          "metadata": {
            "tags": []
          },
          "execution_count": 16
        }
      ]
    },
    {
      "cell_type": "code",
      "metadata": {
        "id": "tuloJc9A-Alq",
        "colab_type": "code",
        "colab": {}
      },
      "source": [
        "# Creating a list of index for sp500\n",
        "i = pd.Series(list(range(0, len(sp500))))"
      ],
      "execution_count": null,
      "outputs": []
    },
    {
      "cell_type": "code",
      "metadata": {
        "id": "MIqbrF4S-Alw",
        "colab_type": "code",
        "colab": {}
      },
      "source": [
        "# setting an index for sp500\n",
        "sp500.set_index(i, inplace=True)"
      ],
      "execution_count": null,
      "outputs": []
    },
    {
      "cell_type": "code",
      "metadata": {
        "id": "MR8v4tjm-Al0",
        "colab_type": "code",
        "colab": {
          "base_uri": "https://localhost:8080/",
          "height": 204
        },
        "outputId": "e1fba0ec-c09a-4d6e-ec60-e2e3ac86a955"
      },
      "source": [
        "# data information\n",
        "sp500.head()"
      ],
      "execution_count": null,
      "outputs": [
        {
          "output_type": "execute_result",
          "data": {
            "text/html": [
              "<div>\n",
              "<style scoped>\n",
              "    .dataframe tbody tr th:only-of-type {\n",
              "        vertical-align: middle;\n",
              "    }\n",
              "\n",
              "    .dataframe tbody tr th {\n",
              "        vertical-align: top;\n",
              "    }\n",
              "\n",
              "    .dataframe thead th {\n",
              "        text-align: right;\n",
              "    }\n",
              "</style>\n",
              "<table border=\"1\" class=\"dataframe\">\n",
              "  <thead>\n",
              "    <tr style=\"text-align: right;\">\n",
              "      <th></th>\n",
              "      <th>Date</th>\n",
              "      <th>Close</th>\n",
              "    </tr>\n",
              "  </thead>\n",
              "  <tbody>\n",
              "    <tr>\n",
              "      <th>0</th>\n",
              "      <td>2009-01-05</td>\n",
              "      <td>927.45</td>\n",
              "    </tr>\n",
              "    <tr>\n",
              "      <th>1</th>\n",
              "      <td>2009-01-06</td>\n",
              "      <td>934.70</td>\n",
              "    </tr>\n",
              "    <tr>\n",
              "      <th>2</th>\n",
              "      <td>2009-01-07</td>\n",
              "      <td>906.65</td>\n",
              "    </tr>\n",
              "    <tr>\n",
              "      <th>3</th>\n",
              "      <td>2009-01-08</td>\n",
              "      <td>909.73</td>\n",
              "    </tr>\n",
              "    <tr>\n",
              "      <th>4</th>\n",
              "      <td>2009-01-09</td>\n",
              "      <td>890.35</td>\n",
              "    </tr>\n",
              "  </tbody>\n",
              "</table>\n",
              "</div>"
            ],
            "text/plain": [
              "        Date   Close\n",
              "0 2009-01-05  927.45\n",
              "1 2009-01-06  934.70\n",
              "2 2009-01-07  906.65\n",
              "3 2009-01-08  909.73\n",
              "4 2009-01-09  890.35"
            ]
          },
          "metadata": {
            "tags": []
          },
          "execution_count": 19
        }
      ]
    },
    {
      "cell_type": "code",
      "metadata": {
        "id": "udyYXbgjD0c9",
        "colab_type": "code",
        "colab": {}
      },
      "source": [
        "# Save file in samples directory\n",
        "#sp500.to_csv(\"/content/drive/My Drive/Análise Exploratória/Dados/sp500.csv\")"
      ],
      "execution_count": null,
      "outputs": []
    },
    {
      "cell_type": "markdown",
      "metadata": {
        "id": "hewsMITD-Al5",
        "colab_type": "text"
      },
      "source": [
        "#### Wrangling for Market Data"
      ]
    },
    {
      "cell_type": "code",
      "metadata": {
        "id": "-qphcPop-Al6",
        "colab_type": "code",
        "colab": {}
      },
      "source": [
        "# import data\n",
        "market = pd.read_csv(\"/content/drive/My Drive/Análise Exploratória/Dados/market_data.v4.csv\", sep=\";\")"
      ],
      "execution_count": 31,
      "outputs": []
    },
    {
      "cell_type": "code",
      "metadata": {
        "id": "rgNIEXWu-Al-",
        "colab_type": "code",
        "colab": {}
      },
      "source": [
        "# removing spaces from column names\n",
        "market.columns = market.columns.str.replace(\" \", \"\")"
      ],
      "execution_count": 32,
      "outputs": []
    },
    {
      "cell_type": "code",
      "metadata": {
        "id": "0o62i9JP-AmD",
        "colab_type": "code",
        "colab": {}
      },
      "source": [
        "# transforming date to datetime\n",
        "market['Date'] = market['Date'].astype('datetime64[ns]')"
      ],
      "execution_count": 33,
      "outputs": []
    },
    {
      "cell_type": "code",
      "metadata": {
        "id": "JyuivC16-AmW",
        "colab_type": "code",
        "colab": {}
      },
      "source": [
        "# removing rows with null dates\n",
        "market.dropna(axis=0, subset=['Date'], inplace=True)"
      ],
      "execution_count": 34,
      "outputs": []
    },
    {
      "cell_type": "code",
      "metadata": {
        "id": "O3C_Aec6Jlun",
        "colab_type": "code",
        "colab": {
          "base_uri": "https://localhost:8080/",
          "height": 309
        },
        "outputId": "5fd71bda-9dd6-4471-dd4b-bc3daaeac5e0"
      },
      "source": [
        "# visualising data\n",
        "market.head()"
      ],
      "execution_count": 44,
      "outputs": [
        {
          "output_type": "execute_result",
          "data": {
            "text/html": [
              "<div>\n",
              "<style scoped>\n",
              "    .dataframe tbody tr th:only-of-type {\n",
              "        vertical-align: middle;\n",
              "    }\n",
              "\n",
              "    .dataframe tbody tr th {\n",
              "        vertical-align: top;\n",
              "    }\n",
              "\n",
              "    .dataframe thead th {\n",
              "        text-align: right;\n",
              "    }\n",
              "</style>\n",
              "<table border=\"1\" class=\"dataframe\">\n",
              "  <thead>\n",
              "    <tr style=\"text-align: right;\">\n",
              "      <th></th>\n",
              "      <th>Date</th>\n",
              "      <th>GoogleTrends</th>\n",
              "      <th>Bitcoin_DD</th>\n",
              "      <th>MarketPrice</th>\n",
              "      <th>TradeVolume</th>\n",
              "      <th>NewPosts</th>\n",
              "      <th>NewMembers</th>\n",
              "      <th>PageViews</th>\n",
              "      <th>Difficulty</th>\n",
              "      <th>CostPerTransaction</th>\n",
              "      <th>CostPerTransactionPercent</th>\n",
              "      <th>EstimTransactionVolume</th>\n",
              "      <th>MedConfirmationTime</th>\n",
              "      <th>NumOfAddresses</th>\n",
              "      <th>NumOfTransactions</th>\n",
              "      <th>OutputVolume</th>\n",
              "      <th>TotalBitcoins</th>\n",
              "      <th>TransactionFees</th>\n",
              "      <th>TransactionFeesUSD</th>\n",
              "      <th>DowJones</th>\n",
              "      <th>EURUSD</th>\n",
              "      <th>USDEUR</th>\n",
              "      <th>OilPrice</th>\n",
              "    </tr>\n",
              "  </thead>\n",
              "  <tbody>\n",
              "    <tr>\n",
              "      <th>0</th>\n",
              "      <td>2009-03-01</td>\n",
              "      <td>0.0</td>\n",
              "      <td>0.0</td>\n",
              "      <td>0.0</td>\n",
              "      <td>0.0</td>\n",
              "      <td>0.0</td>\n",
              "      <td>0.0</td>\n",
              "      <td>0.0</td>\n",
              "      <td>1.0</td>\n",
              "      <td>0.0</td>\n",
              "      <td>0.0</td>\n",
              "      <td>0.0</td>\n",
              "      <td>0.0</td>\n",
              "      <td>1.0</td>\n",
              "      <td>1.0</td>\n",
              "      <td>50.0</td>\n",
              "      <td>50.0</td>\n",
              "      <td>0.0</td>\n",
              "      <td>0.0</td>\n",
              "      <td>9034.69</td>\n",
              "      <td>1.39</td>\n",
              "      <td>0.72</td>\n",
              "      <td>40.44</td>\n",
              "    </tr>\n",
              "    <tr>\n",
              "      <th>1</th>\n",
              "      <td>2009-04-01</td>\n",
              "      <td>0.0</td>\n",
              "      <td>0.0</td>\n",
              "      <td>0.0</td>\n",
              "      <td>0.0</td>\n",
              "      <td>0.0</td>\n",
              "      <td>0.0</td>\n",
              "      <td>0.0</td>\n",
              "      <td>0.0</td>\n",
              "      <td>0.0</td>\n",
              "      <td>0.0</td>\n",
              "      <td>0.0</td>\n",
              "      <td>0.0</td>\n",
              "      <td>0.0</td>\n",
              "      <td>0.0</td>\n",
              "      <td>0.0</td>\n",
              "      <td>50.0</td>\n",
              "      <td>0.0</td>\n",
              "      <td>0.0</td>\n",
              "      <td>9034.69</td>\n",
              "      <td>1.39</td>\n",
              "      <td>0.72</td>\n",
              "      <td>40.44</td>\n",
              "    </tr>\n",
              "    <tr>\n",
              "      <th>2</th>\n",
              "      <td>2009-05-01</td>\n",
              "      <td>0.0</td>\n",
              "      <td>0.0</td>\n",
              "      <td>0.0</td>\n",
              "      <td>0.0</td>\n",
              "      <td>0.0</td>\n",
              "      <td>0.0</td>\n",
              "      <td>0.0</td>\n",
              "      <td>0.0</td>\n",
              "      <td>0.0</td>\n",
              "      <td>0.0</td>\n",
              "      <td>0.0</td>\n",
              "      <td>0.0</td>\n",
              "      <td>0.0</td>\n",
              "      <td>0.0</td>\n",
              "      <td>0.0</td>\n",
              "      <td>50.0</td>\n",
              "      <td>0.0</td>\n",
              "      <td>0.0</td>\n",
              "      <td>8952.89</td>\n",
              "      <td>1.36</td>\n",
              "      <td>0.74</td>\n",
              "      <td>43.98</td>\n",
              "    </tr>\n",
              "    <tr>\n",
              "      <th>3</th>\n",
              "      <td>2009-06-01</td>\n",
              "      <td>0.0</td>\n",
              "      <td>0.0</td>\n",
              "      <td>0.0</td>\n",
              "      <td>0.0</td>\n",
              "      <td>0.0</td>\n",
              "      <td>0.0</td>\n",
              "      <td>0.0</td>\n",
              "      <td>0.0</td>\n",
              "      <td>0.0</td>\n",
              "      <td>0.0</td>\n",
              "      <td>0.0</td>\n",
              "      <td>0.0</td>\n",
              "      <td>0.0</td>\n",
              "      <td>0.0</td>\n",
              "      <td>0.0</td>\n",
              "      <td>50.0</td>\n",
              "      <td>0.0</td>\n",
              "      <td>0.0</td>\n",
              "      <td>9015.10</td>\n",
              "      <td>1.34</td>\n",
              "      <td>0.74</td>\n",
              "      <td>46.32</td>\n",
              "    </tr>\n",
              "    <tr>\n",
              "      <th>4</th>\n",
              "      <td>2009-07-01</td>\n",
              "      <td>0.0</td>\n",
              "      <td>0.0</td>\n",
              "      <td>0.0</td>\n",
              "      <td>0.0</td>\n",
              "      <td>0.0</td>\n",
              "      <td>0.0</td>\n",
              "      <td>0.0</td>\n",
              "      <td>0.0</td>\n",
              "      <td>0.0</td>\n",
              "      <td>0.0</td>\n",
              "      <td>0.0</td>\n",
              "      <td>0.0</td>\n",
              "      <td>0.0</td>\n",
              "      <td>0.0</td>\n",
              "      <td>0.0</td>\n",
              "      <td>50.0</td>\n",
              "      <td>0.0</td>\n",
              "      <td>0.0</td>\n",
              "      <td>8769.70</td>\n",
              "      <td>1.37</td>\n",
              "      <td>0.73</td>\n",
              "      <td>45.43</td>\n",
              "    </tr>\n",
              "  </tbody>\n",
              "</table>\n",
              "</div>"
            ],
            "text/plain": [
              "        Date  GoogleTrends  Bitcoin_DD  ...  EURUSD  USDEUR  OilPrice\n",
              "0 2009-03-01           0.0         0.0  ...    1.39    0.72     40.44\n",
              "1 2009-04-01           0.0         0.0  ...    1.39    0.72     40.44\n",
              "2 2009-05-01           0.0         0.0  ...    1.36    0.74     43.98\n",
              "3 2009-06-01           0.0         0.0  ...    1.34    0.74     46.32\n",
              "4 2009-07-01           0.0         0.0  ...    1.37    0.73     45.43\n",
              "\n",
              "[5 rows x 23 columns]"
            ]
          },
          "metadata": {
            "tags": []
          },
          "execution_count": 44
        }
      ]
    },
    {
      "cell_type": "code",
      "metadata": {
        "id": "2efjWBSI-Ama",
        "colab_type": "code",
        "colab": {
          "base_uri": "https://localhost:8080/",
          "height": 425
        },
        "outputId": "757b61de-5ce9-4f7d-a4e7-222a195c6213"
      },
      "source": [
        "# visualising data types on market dataframe\n",
        "market.dtypes"
      ],
      "execution_count": 35,
      "outputs": [
        {
          "output_type": "execute_result",
          "data": {
            "text/plain": [
              "Date                         datetime64[ns]\n",
              "GoogleTrends                         object\n",
              "Bitcoin_DD                           object\n",
              "MarketPrice                          object\n",
              "TradeVolume                          object\n",
              "NewPosts                             object\n",
              "NewMembers                           object\n",
              "PageViews                            object\n",
              "Difficulty                           object\n",
              "CostPerTransaction                   object\n",
              "CostPerTransactionPercent            object\n",
              "EstimTransactionVolume               object\n",
              "MedConfirmationTime                  object\n",
              "NumOfAddresses                       object\n",
              "NumOfTransactions                    object\n",
              "OutputVolume                         object\n",
              "TotalBitcoins                        object\n",
              "TransactionFees                      object\n",
              "TransactionFeesUSD                   object\n",
              "DowJones                             object\n",
              "EURUSD                               object\n",
              "USDEUR                               object\n",
              "OilPrice                             object\n",
              "dtype: object"
            ]
          },
          "metadata": {
            "tags": []
          },
          "execution_count": 35
        }
      ]
    },
    {
      "cell_type": "code",
      "metadata": {
        "id": "NBJy4CuCEV_j",
        "colab_type": "code",
        "colab": {}
      },
      "source": [
        "# transforming string columns to float\n",
        "columns = market.columns\n",
        "\n",
        "for col in columns:\n",
        "  if (col != 'Date'):\n",
        "    market[col] = market[col].str.replace(\",\", \".\").astype('float64')"
      ],
      "execution_count": 38,
      "outputs": []
    },
    {
      "cell_type": "code",
      "metadata": {
        "id": "vAY8m6a7Igu4",
        "colab_type": "code",
        "colab": {
          "base_uri": "https://localhost:8080/",
          "height": 309
        },
        "outputId": "ec430156-5536-46ae-cebd-8b820b297c9e"
      },
      "source": [
        "market.tail(5)"
      ],
      "execution_count": 42,
      "outputs": [
        {
          "output_type": "execute_result",
          "data": {
            "text/html": [
              "<div>\n",
              "<style scoped>\n",
              "    .dataframe tbody tr th:only-of-type {\n",
              "        vertical-align: middle;\n",
              "    }\n",
              "\n",
              "    .dataframe tbody tr th {\n",
              "        vertical-align: top;\n",
              "    }\n",
              "\n",
              "    .dataframe thead th {\n",
              "        text-align: right;\n",
              "    }\n",
              "</style>\n",
              "<table border=\"1\" class=\"dataframe\">\n",
              "  <thead>\n",
              "    <tr style=\"text-align: right;\">\n",
              "      <th></th>\n",
              "      <th>Date</th>\n",
              "      <th>GoogleTrends</th>\n",
              "      <th>Bitcoin_DD</th>\n",
              "      <th>MarketPrice</th>\n",
              "      <th>TradeVolume</th>\n",
              "      <th>NewPosts</th>\n",
              "      <th>NewMembers</th>\n",
              "      <th>PageViews</th>\n",
              "      <th>Difficulty</th>\n",
              "      <th>CostPerTransaction</th>\n",
              "      <th>CostPerTransactionPercent</th>\n",
              "      <th>EstimTransactionVolume</th>\n",
              "      <th>MedConfirmationTime</th>\n",
              "      <th>NumOfAddresses</th>\n",
              "      <th>NumOfTransactions</th>\n",
              "      <th>OutputVolume</th>\n",
              "      <th>TotalBitcoins</th>\n",
              "      <th>TransactionFees</th>\n",
              "      <th>TransactionFeesUSD</th>\n",
              "      <th>DowJones</th>\n",
              "      <th>EURUSD</th>\n",
              "      <th>USDEUR</th>\n",
              "      <th>OilPrice</th>\n",
              "    </tr>\n",
              "  </thead>\n",
              "  <tbody>\n",
              "    <tr>\n",
              "      <th>3795</th>\n",
              "      <td>2019-05-26</td>\n",
              "      <td>30.0</td>\n",
              "      <td>NaN</td>\n",
              "      <td>8114.93</td>\n",
              "      <td>7.084562e+07</td>\n",
              "      <td>NaN</td>\n",
              "      <td>NaN</td>\n",
              "      <td>NaN</td>\n",
              "      <td>6.703780e+12</td>\n",
              "      <td>46.82</td>\n",
              "      <td>2.08</td>\n",
              "      <td>103839.72</td>\n",
              "      <td>7.42</td>\n",
              "      <td>503584.0</td>\n",
              "      <td>374072.0</td>\n",
              "      <td>850401.16</td>\n",
              "      <td>NaN</td>\n",
              "      <td>95.89</td>\n",
              "      <td>778109.55</td>\n",
              "      <td>25585.69</td>\n",
              "      <td>1.12</td>\n",
              "      <td>0.89</td>\n",
              "      <td>67.40</td>\n",
              "    </tr>\n",
              "    <tr>\n",
              "      <th>3796</th>\n",
              "      <td>2019-05-27</td>\n",
              "      <td>43.0</td>\n",
              "      <td>NaN</td>\n",
              "      <td>8779.97</td>\n",
              "      <td>2.520572e+08</td>\n",
              "      <td>NaN</td>\n",
              "      <td>NaN</td>\n",
              "      <td>NaN</td>\n",
              "      <td>6.703780e+12</td>\n",
              "      <td>50.03</td>\n",
              "      <td>1.57</td>\n",
              "      <td>144865.24</td>\n",
              "      <td>9.58</td>\n",
              "      <td>635287.0</td>\n",
              "      <td>399584.0</td>\n",
              "      <td>1212933.65</td>\n",
              "      <td>17726287.5</td>\n",
              "      <td>189.31</td>\n",
              "      <td>1662166.03</td>\n",
              "      <td>25585.69</td>\n",
              "      <td>NaN</td>\n",
              "      <td>0.89</td>\n",
              "      <td>67.42</td>\n",
              "    </tr>\n",
              "    <tr>\n",
              "      <th>3797</th>\n",
              "      <td>2019-05-28</td>\n",
              "      <td>38.0</td>\n",
              "      <td>NaN</td>\n",
              "      <td>8727.90</td>\n",
              "      <td>1.346084e+08</td>\n",
              "      <td>NaN</td>\n",
              "      <td>NaN</td>\n",
              "      <td>NaN</td>\n",
              "      <td>6.703780e+12</td>\n",
              "      <td>50.14</td>\n",
              "      <td>1.35</td>\n",
              "      <td>165832.01</td>\n",
              "      <td>10.83</td>\n",
              "      <td>580187.0</td>\n",
              "      <td>390427.0</td>\n",
              "      <td>1324503.91</td>\n",
              "      <td>17728337.5</td>\n",
              "      <td>192.95</td>\n",
              "      <td>1684051.21</td>\n",
              "      <td>25347.77</td>\n",
              "      <td>1.12</td>\n",
              "      <td>0.90</td>\n",
              "      <td>68.84</td>\n",
              "    </tr>\n",
              "    <tr>\n",
              "      <th>3798</th>\n",
              "      <td>2019-05-29</td>\n",
              "      <td>35.0</td>\n",
              "      <td>NaN</td>\n",
              "      <td>8646.20</td>\n",
              "      <td>1.508169e+08</td>\n",
              "      <td>NaN</td>\n",
              "      <td>NaN</td>\n",
              "      <td>NaN</td>\n",
              "      <td>6.703780e+12</td>\n",
              "      <td>50.41</td>\n",
              "      <td>0.75</td>\n",
              "      <td>314424.12</td>\n",
              "      <td>7.88</td>\n",
              "      <td>553687.0</td>\n",
              "      <td>405155.0</td>\n",
              "      <td>1426452.62</td>\n",
              "      <td>17730512.5</td>\n",
              "      <td>187.08</td>\n",
              "      <td>1617561.52</td>\n",
              "      <td>25126.41</td>\n",
              "      <td>1.11</td>\n",
              "      <td>0.90</td>\n",
              "      <td>67.75</td>\n",
              "    </tr>\n",
              "    <tr>\n",
              "      <th>3799</th>\n",
              "      <td>2019-05-30</td>\n",
              "      <td>38.0</td>\n",
              "      <td>NaN</td>\n",
              "      <td>8641.89</td>\n",
              "      <td>1.639041e+08</td>\n",
              "      <td>NaN</td>\n",
              "      <td>NaN</td>\n",
              "      <td>NaN</td>\n",
              "      <td>6.747104e+12</td>\n",
              "      <td>50.18</td>\n",
              "      <td>1.45</td>\n",
              "      <td>150947.62</td>\n",
              "      <td>9.68</td>\n",
              "      <td>569997.0</td>\n",
              "      <td>376874.0</td>\n",
              "      <td>1224910.87</td>\n",
              "      <td>17732512.5</td>\n",
              "      <td>188.21</td>\n",
              "      <td>1626460.12</td>\n",
              "      <td>25169.88</td>\n",
              "      <td>1.11</td>\n",
              "      <td>0.90</td>\n",
              "      <td>67.10</td>\n",
              "    </tr>\n",
              "  </tbody>\n",
              "</table>\n",
              "</div>"
            ],
            "text/plain": [
              "           Date  GoogleTrends  Bitcoin_DD  ...  EURUSD  USDEUR  OilPrice\n",
              "3795 2019-05-26          30.0         NaN  ...    1.12    0.89     67.40\n",
              "3796 2019-05-27          43.0         NaN  ...     NaN    0.89     67.42\n",
              "3797 2019-05-28          38.0         NaN  ...    1.12    0.90     68.84\n",
              "3798 2019-05-29          35.0         NaN  ...    1.11    0.90     67.75\n",
              "3799 2019-05-30          38.0         NaN  ...    1.11    0.90     67.10\n",
              "\n",
              "[5 rows x 23 columns]"
            ]
          },
          "metadata": {
            "tags": []
          },
          "execution_count": 42
        }
      ]
    },
    {
      "cell_type": "code",
      "metadata": {
        "id": "bjdRBYwAInN4",
        "colab_type": "code",
        "colab": {
          "base_uri": "https://localhost:8080/",
          "height": 731
        },
        "outputId": "85b10c84-8b5b-4ab6-facb-3b9ced6a1643"
      },
      "source": [
        "# visualising empty values\n",
        "column_names = pd.DataFrame({ \\\n",
        "                             'Columns':[col for col in columns if col != 'Date'], \\\n",
        "                             'Empty':[market[col].isnull().sum() for col in columns if col != 'Date'], \\\n",
        "                             'Empty(%)':[market[col].isnull().sum()/market[col].isnull().count() for col in columns if col != 'Date']})\n",
        "\n",
        "column_names"
      ],
      "execution_count": 59,
      "outputs": [
        {
          "output_type": "execute_result",
          "data": {
            "text/html": [
              "<div>\n",
              "<style scoped>\n",
              "    .dataframe tbody tr th:only-of-type {\n",
              "        vertical-align: middle;\n",
              "    }\n",
              "\n",
              "    .dataframe tbody tr th {\n",
              "        vertical-align: top;\n",
              "    }\n",
              "\n",
              "    .dataframe thead th {\n",
              "        text-align: right;\n",
              "    }\n",
              "</style>\n",
              "<table border=\"1\" class=\"dataframe\">\n",
              "  <thead>\n",
              "    <tr style=\"text-align: right;\">\n",
              "      <th></th>\n",
              "      <th>Columns</th>\n",
              "      <th>Empty</th>\n",
              "      <th>Empty(%)</th>\n",
              "    </tr>\n",
              "  </thead>\n",
              "  <tbody>\n",
              "    <tr>\n",
              "      <th>0</th>\n",
              "      <td>GoogleTrends</td>\n",
              "      <td>0</td>\n",
              "      <td>0.000000</td>\n",
              "    </tr>\n",
              "    <tr>\n",
              "      <th>1</th>\n",
              "      <td>Bitcoin_DD</td>\n",
              "      <td>1054</td>\n",
              "      <td>0.277368</td>\n",
              "    </tr>\n",
              "    <tr>\n",
              "      <th>2</th>\n",
              "      <td>MarketPrice</td>\n",
              "      <td>0</td>\n",
              "      <td>0.000000</td>\n",
              "    </tr>\n",
              "    <tr>\n",
              "      <th>3</th>\n",
              "      <td>TradeVolume</td>\n",
              "      <td>11</td>\n",
              "      <td>0.002895</td>\n",
              "    </tr>\n",
              "    <tr>\n",
              "      <th>4</th>\n",
              "      <td>NewPosts</td>\n",
              "      <td>533</td>\n",
              "      <td>0.140263</td>\n",
              "    </tr>\n",
              "    <tr>\n",
              "      <th>5</th>\n",
              "      <td>NewMembers</td>\n",
              "      <td>533</td>\n",
              "      <td>0.140263</td>\n",
              "    </tr>\n",
              "    <tr>\n",
              "      <th>6</th>\n",
              "      <td>PageViews</td>\n",
              "      <td>533</td>\n",
              "      <td>0.140263</td>\n",
              "    </tr>\n",
              "    <tr>\n",
              "      <th>7</th>\n",
              "      <td>Difficulty</td>\n",
              "      <td>0</td>\n",
              "      <td>0.000000</td>\n",
              "    </tr>\n",
              "    <tr>\n",
              "      <th>8</th>\n",
              "      <td>CostPerTransaction</td>\n",
              "      <td>0</td>\n",
              "      <td>0.000000</td>\n",
              "    </tr>\n",
              "    <tr>\n",
              "      <th>9</th>\n",
              "      <td>CostPerTransactionPercent</td>\n",
              "      <td>2</td>\n",
              "      <td>0.000526</td>\n",
              "    </tr>\n",
              "    <tr>\n",
              "      <th>10</th>\n",
              "      <td>EstimTransactionVolume</td>\n",
              "      <td>0</td>\n",
              "      <td>0.000000</td>\n",
              "    </tr>\n",
              "    <tr>\n",
              "      <th>11</th>\n",
              "      <td>MedConfirmationTime</td>\n",
              "      <td>0</td>\n",
              "      <td>0.000000</td>\n",
              "    </tr>\n",
              "    <tr>\n",
              "      <th>12</th>\n",
              "      <td>NumOfAddresses</td>\n",
              "      <td>0</td>\n",
              "      <td>0.000000</td>\n",
              "    </tr>\n",
              "    <tr>\n",
              "      <th>13</th>\n",
              "      <td>NumOfTransactions</td>\n",
              "      <td>0</td>\n",
              "      <td>0.000000</td>\n",
              "    </tr>\n",
              "    <tr>\n",
              "      <th>14</th>\n",
              "      <td>OutputVolume</td>\n",
              "      <td>0</td>\n",
              "      <td>0.000000</td>\n",
              "    </tr>\n",
              "    <tr>\n",
              "      <th>15</th>\n",
              "      <td>TotalBitcoins</td>\n",
              "      <td>486</td>\n",
              "      <td>0.127895</td>\n",
              "    </tr>\n",
              "    <tr>\n",
              "      <th>16</th>\n",
              "      <td>TransactionFees</td>\n",
              "      <td>0</td>\n",
              "      <td>0.000000</td>\n",
              "    </tr>\n",
              "    <tr>\n",
              "      <th>17</th>\n",
              "      <td>TransactionFeesUSD</td>\n",
              "      <td>0</td>\n",
              "      <td>0.000000</td>\n",
              "    </tr>\n",
              "    <tr>\n",
              "      <th>18</th>\n",
              "      <td>DowJones</td>\n",
              "      <td>0</td>\n",
              "      <td>0.000000</td>\n",
              "    </tr>\n",
              "    <tr>\n",
              "      <th>19</th>\n",
              "      <td>EURUSD</td>\n",
              "      <td>1</td>\n",
              "      <td>0.000263</td>\n",
              "    </tr>\n",
              "    <tr>\n",
              "      <th>20</th>\n",
              "      <td>USDEUR</td>\n",
              "      <td>0</td>\n",
              "      <td>0.000000</td>\n",
              "    </tr>\n",
              "    <tr>\n",
              "      <th>21</th>\n",
              "      <td>OilPrice</td>\n",
              "      <td>0</td>\n",
              "      <td>0.000000</td>\n",
              "    </tr>\n",
              "  </tbody>\n",
              "</table>\n",
              "</div>"
            ],
            "text/plain": [
              "                      Columns  Empty  Empty(%)\n",
              "0                GoogleTrends      0  0.000000\n",
              "1                  Bitcoin_DD   1054  0.277368\n",
              "2                 MarketPrice      0  0.000000\n",
              "3                 TradeVolume     11  0.002895\n",
              "4                    NewPosts    533  0.140263\n",
              "5                  NewMembers    533  0.140263\n",
              "6                   PageViews    533  0.140263\n",
              "7                  Difficulty      0  0.000000\n",
              "8          CostPerTransaction      0  0.000000\n",
              "9   CostPerTransactionPercent      2  0.000526\n",
              "10     EstimTransactionVolume      0  0.000000\n",
              "11        MedConfirmationTime      0  0.000000\n",
              "12             NumOfAddresses      0  0.000000\n",
              "13          NumOfTransactions      0  0.000000\n",
              "14               OutputVolume      0  0.000000\n",
              "15              TotalBitcoins    486  0.127895\n",
              "16            TransactionFees      0  0.000000\n",
              "17         TransactionFeesUSD      0  0.000000\n",
              "18                   DowJones      0  0.000000\n",
              "19                     EURUSD      1  0.000263\n",
              "20                     USDEUR      0  0.000000\n",
              "21                   OilPrice      0  0.000000"
            ]
          },
          "metadata": {
            "tags": []
          },
          "execution_count": 59
        }
      ]
    }
  ]
}