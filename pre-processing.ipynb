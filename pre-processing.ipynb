{
  "nbformat": 4,
  "nbformat_minor": 0,
  "metadata": {
    "kernelspec": {
      "display_name": "Python 3",
      "language": "python",
      "name": "python3"
    },
    "language_info": {
      "codemirror_mode": {
        "name": "ipython",
        "version": 3
      },
      "file_extension": ".py",
      "mimetype": "text/x-python",
      "name": "python",
      "nbconvert_exporter": "python",
      "pygments_lexer": "ipython3",
      "version": "3.7.3"
    },
    "colab": {
      "name": "wrangling",
      "provenance": [],
      "collapsed_sections": [],
      "include_colab_link": true
    }
  },
  "cells": [
    {
      "cell_type": "markdown",
      "metadata": {
        "id": "view-in-github",
        "colab_type": "text"
      },
      "source": [
        "<a href=\"https://colab.research.google.com/github/wallisonferreira/analise-exploratoria-mercados/blob/master/pre-processing.ipynb\" target=\"_parent\"><img src=\"https://colab.research.google.com/assets/colab-badge.svg\" alt=\"Open In Colab\"/></a>"
      ]
    },
    {
      "cell_type": "code",
      "metadata": {
        "id": "7A0movNavqPf",
        "colab_type": "code",
        "colab": {
          "base_uri": "https://localhost:8080/",
          "height": 122
        },
        "outputId": "ec132ded-6be3-4415-fab0-47330dd7e3f6"
      },
      "source": [
        "from google.colab import drive\n",
        "drive.mount('/content/drive')"
      ],
      "execution_count": 1,
      "outputs": [
        {
          "output_type": "stream",
          "text": [
            "Go to this URL in a browser: https://accounts.google.com/o/oauth2/auth?client_id=947318989803-6bn6qk8qdgf4n4g3pfee6491hc0brc4i.apps.googleusercontent.com&redirect_uri=urn%3aietf%3awg%3aoauth%3a2.0%3aoob&response_type=code&scope=email%20https%3a%2f%2fwww.googleapis.com%2fauth%2fdocs.test%20https%3a%2f%2fwww.googleapis.com%2fauth%2fdrive%20https%3a%2f%2fwww.googleapis.com%2fauth%2fdrive.photos.readonly%20https%3a%2f%2fwww.googleapis.com%2fauth%2fpeopleapi.readonly\n",
            "\n",
            "Enter your authorization code:\n",
            "··········\n",
            "Mounted at /content/drive\n"
          ],
          "name": "stdout"
        }
      ]
    },
    {
      "cell_type": "markdown",
      "metadata": {
        "id": "mVorQE5Q-Ajt",
        "colab_type": "text"
      },
      "source": [
        "# Pré-processamento\n",
        "\n",
        "<p style=\"text-align:justify\">Neste arquivo serão realizadas tarefas de manipulação de dados usando técnicas de seleção, tratamento e exclusão de valores vazios, transformação e junção de dados. Esta tarefa é pré-requisito para a qualidade da visualização e análise de dados. Os dados serão transformados para um formato conveniente a fim de diminuir os impactos sobre a etapa de análise de dados.</p>"
      ]
    },
    {
      "cell_type": "code",
      "metadata": {
        "id": "K_HQchoC-vrY",
        "colab_type": "code",
        "colab": {
          "base_uri": "https://localhost:8080/",
          "height": 326
        },
        "outputId": "635d13b0-9d19-4429-b1cf-162dfe0c916d"
      },
      "source": [
        "# invite people to the party\n",
        "import pandas as pd\n",
        "import numpy as np\n",
        "!pip install quandl\n",
        "import quandl"
      ],
      "execution_count": 3,
      "outputs": [
        {
          "output_type": "stream",
          "text": [
            "Collecting quandl\n",
            "  Downloading https://files.pythonhosted.org/packages/21/ce/281f4ae2554ba676735157a91205e808af149e97be534d6a1b9196638e63/Quandl-3.5.1-py2.py3-none-any.whl\n",
            "Collecting inflection>=0.3.1\n",
            "  Downloading https://files.pythonhosted.org/packages/d2/cd/f04c661d1b5ba6b7d77008e8fedd28a27a683eeeffcd93c6b2dbe54ea983/inflection-0.5.0-py2.py3-none-any.whl\n",
            "Requirement already satisfied: numpy>=1.8 in /usr/local/lib/python3.6/dist-packages (from quandl) (1.18.5)\n",
            "Requirement already satisfied: python-dateutil in /usr/local/lib/python3.6/dist-packages (from quandl) (2.8.1)\n",
            "Requirement already satisfied: more-itertools in /usr/local/lib/python3.6/dist-packages (from quandl) (8.4.0)\n",
            "Requirement already satisfied: requests>=2.7.0 in /usr/local/lib/python3.6/dist-packages (from quandl) (2.23.0)\n",
            "Requirement already satisfied: pandas>=0.14 in /usr/local/lib/python3.6/dist-packages (from quandl) (1.0.5)\n",
            "Requirement already satisfied: six in /usr/local/lib/python3.6/dist-packages (from quandl) (1.12.0)\n",
            "Requirement already satisfied: chardet<4,>=3.0.2 in /usr/local/lib/python3.6/dist-packages (from requests>=2.7.0->quandl) (3.0.4)\n",
            "Requirement already satisfied: urllib3!=1.25.0,!=1.25.1,<1.26,>=1.21.1 in /usr/local/lib/python3.6/dist-packages (from requests>=2.7.0->quandl) (1.24.3)\n",
            "Requirement already satisfied: certifi>=2017.4.17 in /usr/local/lib/python3.6/dist-packages (from requests>=2.7.0->quandl) (2020.6.20)\n",
            "Requirement already satisfied: idna<3,>=2.5 in /usr/local/lib/python3.6/dist-packages (from requests>=2.7.0->quandl) (2.10)\n",
            "Requirement already satisfied: pytz>=2017.2 in /usr/local/lib/python3.6/dist-packages (from pandas>=0.14->quandl) (2018.9)\n",
            "Installing collected packages: inflection, quandl\n",
            "Successfully installed inflection-0.5.0 quandl-3.5.1\n"
          ],
          "name": "stdout"
        }
      ]
    },
    {
      "cell_type": "markdown",
      "metadata": {
        "id": "u4pECE2bFKEi",
        "colab_type": "text"
      },
      "source": [
        "#### Oil Price\n",
        "\n",
        "Nesta seção será feito a importação e ajustes necessários sobre os dados do preço do óleo. Estes dados são fornecidos pelo Quandl através de sua API. Abaixo, utilizando a função get do Quandl API, importaremos os dados no formato conveniente para o python. Utilizaremos, primordialmente, a biblioteca pandas como um recipiente para manipulação de tabelas em grande parte do nosso trabalho."
      ]
    },
    {
      "cell_type": "code",
      "metadata": {
        "id": "4rBj0fGi-Aj-",
        "colab_type": "code",
        "colab": {}
      },
      "source": [
        "# importando os dados\n",
        "oil_price = quandl.get(\"OPEC/ORB\", start_date=\"2009-01-01\", end_date=\"2019-05-30\")"
      ],
      "execution_count": 89,
      "outputs": []
    },
    {
      "cell_type": "code",
      "metadata": {
        "id": "0WTSiQdv-AkJ",
        "colab_type": "code",
        "colab": {}
      },
      "source": [
        "# reseta o index\n",
        "oil_price.reset_index(inplace=True)"
      ],
      "execution_count": 90,
      "outputs": []
    },
    {
      "cell_type": "code",
      "metadata": {
        "id": "_1MB-B_3-AkS",
        "colab_type": "code",
        "colab": {
          "base_uri": "https://localhost:8080/",
          "height": 34
        },
        "outputId": "48ac99ae-68ca-48b8-a628-6395822b735d"
      },
      "source": [
        "# visualizando as colunas\n",
        "oil_price.columns"
      ],
      "execution_count": 91,
      "outputs": [
        {
          "output_type": "execute_result",
          "data": {
            "text/plain": [
              "Index(['Date', 'Value'], dtype='object')"
            ]
          },
          "metadata": {
            "tags": []
          },
          "execution_count": 91
        }
      ]
    },
    {
      "cell_type": "code",
      "metadata": {
        "id": "Siv2Ggf1-Aka",
        "colab_type": "code",
        "colab": {}
      },
      "source": [
        "# renomeando a coluna\n",
        "oil_price.rename(columns={\"Value\":\"OilPrice\"}, inplace=True)"
      ],
      "execution_count": 92,
      "outputs": []
    },
    {
      "cell_type": "code",
      "metadata": {
        "id": "JPmXGJdA-Aki",
        "colab_type": "code",
        "colab": {
          "base_uri": "https://localhost:8080/",
          "height": 204
        },
        "outputId": "f9e5961a-86d5-4baf-ead4-9a1111e8b5dc"
      },
      "source": [
        "# visualizando os dados\n",
        "oil_price.head()"
      ],
      "execution_count": 93,
      "outputs": [
        {
          "output_type": "execute_result",
          "data": {
            "text/html": [
              "<div>\n",
              "<style scoped>\n",
              "    .dataframe tbody tr th:only-of-type {\n",
              "        vertical-align: middle;\n",
              "    }\n",
              "\n",
              "    .dataframe tbody tr th {\n",
              "        vertical-align: top;\n",
              "    }\n",
              "\n",
              "    .dataframe thead th {\n",
              "        text-align: right;\n",
              "    }\n",
              "</style>\n",
              "<table border=\"1\" class=\"dataframe\">\n",
              "  <thead>\n",
              "    <tr style=\"text-align: right;\">\n",
              "      <th></th>\n",
              "      <th>Date</th>\n",
              "      <th>OilPrice</th>\n",
              "    </tr>\n",
              "  </thead>\n",
              "  <tbody>\n",
              "    <tr>\n",
              "      <th>0</th>\n",
              "      <td>2009-01-02</td>\n",
              "      <td>40.44</td>\n",
              "    </tr>\n",
              "    <tr>\n",
              "      <th>1</th>\n",
              "      <td>2009-01-05</td>\n",
              "      <td>43.98</td>\n",
              "    </tr>\n",
              "    <tr>\n",
              "      <th>2</th>\n",
              "      <td>2009-01-06</td>\n",
              "      <td>46.32</td>\n",
              "    </tr>\n",
              "    <tr>\n",
              "      <th>3</th>\n",
              "      <td>2009-01-07</td>\n",
              "      <td>45.43</td>\n",
              "    </tr>\n",
              "    <tr>\n",
              "      <th>4</th>\n",
              "      <td>2009-01-08</td>\n",
              "      <td>42.06</td>\n",
              "    </tr>\n",
              "  </tbody>\n",
              "</table>\n",
              "</div>"
            ],
            "text/plain": [
              "        Date  OilPrice\n",
              "0 2009-01-02     40.44\n",
              "1 2009-01-05     43.98\n",
              "2 2009-01-06     46.32\n",
              "3 2009-01-07     45.43\n",
              "4 2009-01-08     42.06"
            ]
          },
          "metadata": {
            "tags": []
          },
          "execution_count": 93
        }
      ]
    },
    {
      "cell_type": "code",
      "metadata": {
        "id": "AQ84GPQEAS0U",
        "colab_type": "code",
        "colab": {}
      },
      "source": [
        "# salvando o arquivo\n",
        "#oil_price.to_csv(\"/content/drive/My Drive/Análise Exploratória/Dados/oil_price.csv\")"
      ],
      "execution_count": null,
      "outputs": []
    },
    {
      "cell_type": "markdown",
      "metadata": {
        "id": "Ohcmgrip-Aks",
        "colab_type": "text"
      },
      "source": [
        "####S&P500\n",
        "\n",
        "Nesta seção, repetiremos todo o processo anterior para os dados de S&P500."
      ]
    },
    {
      "cell_type": "code",
      "metadata": {
        "id": "JX1ojVu--Aku",
        "colab_type": "code",
        "colab": {}
      },
      "source": [
        "# importando os dados\n",
        "sp500 = pd.read_csv(\"/content/drive/My Drive/Análise Exploratória/Dados/HistoricalPrices-2.csv\")"
      ],
      "execution_count": 4,
      "outputs": []
    },
    {
      "cell_type": "code",
      "metadata": {
        "id": "jsgp-EUI-Ak4",
        "colab_type": "code",
        "colab": {}
      },
      "source": [
        "# remove espaços do nome das colunas\n",
        "sp500.columns = sp500.columns.str.replace(' ','')"
      ],
      "execution_count": 5,
      "outputs": []
    },
    {
      "cell_type": "code",
      "metadata": {
        "id": "Xy83hYj0-Ak_",
        "colab_type": "code",
        "colab": {}
      },
      "source": [
        "# transforma a coluna date para datetime\n",
        "sp500['Date'] = sp500['Date'].astype('datetime64[ns]')"
      ],
      "execution_count": 6,
      "outputs": []
    },
    {
      "cell_type": "code",
      "metadata": {
        "id": "q5avoxEh-AlF",
        "colab_type": "code",
        "colab": {
          "base_uri": "https://localhost:8080/",
          "height": 119
        },
        "outputId": "4ffc2b4d-f0e9-4346-9922-0a03577c2eae"
      },
      "source": [
        "# visualizando tipos dos dados\n",
        "sp500.dtypes"
      ],
      "execution_count": 7,
      "outputs": [
        {
          "output_type": "execute_result",
          "data": {
            "text/plain": [
              "Date     datetime64[ns]\n",
              "Open            float64\n",
              "High            float64\n",
              "Low             float64\n",
              "Close           float64\n",
              "dtype: object"
            ]
          },
          "metadata": {
            "tags": []
          },
          "execution_count": 7
        }
      ]
    },
    {
      "cell_type": "code",
      "metadata": {
        "id": "FMLY1udb-AlL",
        "colab_type": "code",
        "colab": {}
      },
      "source": [
        "# seleciona colunas\n",
        "sp500 = sp500[['Date', 'Close']]"
      ],
      "execution_count": 8,
      "outputs": []
    },
    {
      "cell_type": "code",
      "metadata": {
        "id": "90i5pz8M-AlR",
        "colab_type": "code",
        "colab": {}
      },
      "source": [
        "# ordenando os dados\n",
        "sp500 = sp500.sort_values(['Date'], ascending = True)"
      ],
      "execution_count": 9,
      "outputs": []
    },
    {
      "cell_type": "code",
      "metadata": {
        "id": "Dd7EpIc--Alj",
        "colab_type": "code",
        "colab": {
          "base_uri": "https://localhost:8080/",
          "height": 204
        },
        "outputId": "d38e3196-93e4-46fc-8892-7edb8a167ae4"
      },
      "source": [
        "# visualizando os dados\n",
        "sp500.head()"
      ],
      "execution_count": 10,
      "outputs": [
        {
          "output_type": "execute_result",
          "data": {
            "text/html": [
              "<div>\n",
              "<style scoped>\n",
              "    .dataframe tbody tr th:only-of-type {\n",
              "        vertical-align: middle;\n",
              "    }\n",
              "\n",
              "    .dataframe tbody tr th {\n",
              "        vertical-align: top;\n",
              "    }\n",
              "\n",
              "    .dataframe thead th {\n",
              "        text-align: right;\n",
              "    }\n",
              "</style>\n",
              "<table border=\"1\" class=\"dataframe\">\n",
              "  <thead>\n",
              "    <tr style=\"text-align: right;\">\n",
              "      <th></th>\n",
              "      <th>Date</th>\n",
              "      <th>Close</th>\n",
              "    </tr>\n",
              "  </thead>\n",
              "  <tbody>\n",
              "    <tr>\n",
              "      <th>2617</th>\n",
              "      <td>2009-01-05</td>\n",
              "      <td>927.45</td>\n",
              "    </tr>\n",
              "    <tr>\n",
              "      <th>2616</th>\n",
              "      <td>2009-01-06</td>\n",
              "      <td>934.70</td>\n",
              "    </tr>\n",
              "    <tr>\n",
              "      <th>2615</th>\n",
              "      <td>2009-01-07</td>\n",
              "      <td>906.65</td>\n",
              "    </tr>\n",
              "    <tr>\n",
              "      <th>2614</th>\n",
              "      <td>2009-01-08</td>\n",
              "      <td>909.73</td>\n",
              "    </tr>\n",
              "    <tr>\n",
              "      <th>2613</th>\n",
              "      <td>2009-01-09</td>\n",
              "      <td>890.35</td>\n",
              "    </tr>\n",
              "  </tbody>\n",
              "</table>\n",
              "</div>"
            ],
            "text/plain": [
              "           Date   Close\n",
              "2617 2009-01-05  927.45\n",
              "2616 2009-01-06  934.70\n",
              "2615 2009-01-07  906.65\n",
              "2614 2009-01-08  909.73\n",
              "2613 2009-01-09  890.35"
            ]
          },
          "metadata": {
            "tags": []
          },
          "execution_count": 10
        }
      ]
    },
    {
      "cell_type": "code",
      "metadata": {
        "id": "tuloJc9A-Alq",
        "colab_type": "code",
        "colab": {}
      },
      "source": [
        "# criando uma lista de index para S&P500\n",
        "i = pd.Series(list(range(0, len(sp500))))"
      ],
      "execution_count": null,
      "outputs": []
    },
    {
      "cell_type": "code",
      "metadata": {
        "id": "MIqbrF4S-Alw",
        "colab_type": "code",
        "colab": {}
      },
      "source": [
        "# setando o index para S&P500\n",
        "sp500.set_index(i, inplace=True)"
      ],
      "execution_count": null,
      "outputs": []
    },
    {
      "cell_type": "code",
      "metadata": {
        "id": "MR8v4tjm-Al0",
        "colab_type": "code",
        "colab": {
          "base_uri": "https://localhost:8080/",
          "height": 204
        },
        "outputId": "e1fba0ec-c09a-4d6e-ec60-e2e3ac86a955"
      },
      "source": [
        "# visualizando os dados\n",
        "sp500.head()"
      ],
      "execution_count": null,
      "outputs": [
        {
          "output_type": "execute_result",
          "data": {
            "text/html": [
              "<div>\n",
              "<style scoped>\n",
              "    .dataframe tbody tr th:only-of-type {\n",
              "        vertical-align: middle;\n",
              "    }\n",
              "\n",
              "    .dataframe tbody tr th {\n",
              "        vertical-align: top;\n",
              "    }\n",
              "\n",
              "    .dataframe thead th {\n",
              "        text-align: right;\n",
              "    }\n",
              "</style>\n",
              "<table border=\"1\" class=\"dataframe\">\n",
              "  <thead>\n",
              "    <tr style=\"text-align: right;\">\n",
              "      <th></th>\n",
              "      <th>Date</th>\n",
              "      <th>Close</th>\n",
              "    </tr>\n",
              "  </thead>\n",
              "  <tbody>\n",
              "    <tr>\n",
              "      <th>0</th>\n",
              "      <td>2009-01-05</td>\n",
              "      <td>927.45</td>\n",
              "    </tr>\n",
              "    <tr>\n",
              "      <th>1</th>\n",
              "      <td>2009-01-06</td>\n",
              "      <td>934.70</td>\n",
              "    </tr>\n",
              "    <tr>\n",
              "      <th>2</th>\n",
              "      <td>2009-01-07</td>\n",
              "      <td>906.65</td>\n",
              "    </tr>\n",
              "    <tr>\n",
              "      <th>3</th>\n",
              "      <td>2009-01-08</td>\n",
              "      <td>909.73</td>\n",
              "    </tr>\n",
              "    <tr>\n",
              "      <th>4</th>\n",
              "      <td>2009-01-09</td>\n",
              "      <td>890.35</td>\n",
              "    </tr>\n",
              "  </tbody>\n",
              "</table>\n",
              "</div>"
            ],
            "text/plain": [
              "        Date   Close\n",
              "0 2009-01-05  927.45\n",
              "1 2009-01-06  934.70\n",
              "2 2009-01-07  906.65\n",
              "3 2009-01-08  909.73\n",
              "4 2009-01-09  890.35"
            ]
          },
          "metadata": {
            "tags": []
          },
          "execution_count": 19
        }
      ]
    },
    {
      "cell_type": "code",
      "metadata": {
        "id": "udyYXbgjD0c9",
        "colab_type": "code",
        "colab": {}
      },
      "source": [
        "# salvando arquivo\n",
        "#sp500.to_csv(\"/content/drive/My Drive/Análise Exploratória/Dados/sp500.csv\")"
      ],
      "execution_count": null,
      "outputs": []
    },
    {
      "cell_type": "markdown",
      "metadata": {
        "id": "hewsMITD-Al5",
        "colab_type": "text"
      },
      "source": [
        "#### Market Data\n",
        "\n",
        "Nesta seção faremos com mais cautela uma análise mais aprofundada sobre a planilha de dados de mercado. Lembrando que ainda não juntamos os dados anteriores a esta tabela específica."
      ]
    },
    {
      "cell_type": "code",
      "metadata": {
        "id": "-qphcPop-Al6",
        "colab_type": "code",
        "colab": {}
      },
      "source": [
        "# importando os dados\n",
        "market = pd.read_csv(\"/content/drive/My Drive/Análise Exploratória/Dados/market_data.v4.csv\", sep=\";\")"
      ],
      "execution_count": 11,
      "outputs": []
    },
    {
      "cell_type": "code",
      "metadata": {
        "id": "rgNIEXWu-Al-",
        "colab_type": "code",
        "colab": {}
      },
      "source": [
        "# removendo espaços dos nomes das colunas\n",
        "market.columns = market.columns.str.replace(\" \", \"\")"
      ],
      "execution_count": 12,
      "outputs": []
    },
    {
      "cell_type": "code",
      "metadata": {
        "id": "0o62i9JP-AmD",
        "colab_type": "code",
        "colab": {}
      },
      "source": [
        "# tranformando data para datetime\n",
        "market['Date'] = market['Date'].astype('datetime64[ns]')"
      ],
      "execution_count": 13,
      "outputs": []
    },
    {
      "cell_type": "code",
      "metadata": {
        "id": "JyuivC16-AmW",
        "colab_type": "code",
        "colab": {}
      },
      "source": [
        "# removendo linhas com data nula\n",
        "market.dropna(axis=0, subset=['Date'], inplace=True)"
      ],
      "execution_count": 14,
      "outputs": []
    },
    {
      "cell_type": "code",
      "metadata": {
        "id": "O3C_Aec6Jlun",
        "colab_type": "code",
        "colab": {
          "base_uri": "https://localhost:8080/",
          "height": 309
        },
        "outputId": "5d542b92-fb6d-42c8-d452-1cc6d3c4da6c"
      },
      "source": [
        "# visualisando dados\n",
        "market.head()"
      ],
      "execution_count": 15,
      "outputs": [
        {
          "output_type": "execute_result",
          "data": {
            "text/html": [
              "<div>\n",
              "<style scoped>\n",
              "    .dataframe tbody tr th:only-of-type {\n",
              "        vertical-align: middle;\n",
              "    }\n",
              "\n",
              "    .dataframe tbody tr th {\n",
              "        vertical-align: top;\n",
              "    }\n",
              "\n",
              "    .dataframe thead th {\n",
              "        text-align: right;\n",
              "    }\n",
              "</style>\n",
              "<table border=\"1\" class=\"dataframe\">\n",
              "  <thead>\n",
              "    <tr style=\"text-align: right;\">\n",
              "      <th></th>\n",
              "      <th>Date</th>\n",
              "      <th>GoogleTrends</th>\n",
              "      <th>Bitcoin_DD</th>\n",
              "      <th>MarketPrice</th>\n",
              "      <th>TradeVolume</th>\n",
              "      <th>NewPosts</th>\n",
              "      <th>NewMembers</th>\n",
              "      <th>PageViews</th>\n",
              "      <th>Difficulty</th>\n",
              "      <th>CostPerTransaction</th>\n",
              "      <th>CostPerTransactionPercent</th>\n",
              "      <th>EstimTransactionVolume</th>\n",
              "      <th>MedConfirmationTime</th>\n",
              "      <th>NumOfAddresses</th>\n",
              "      <th>NumOfTransactions</th>\n",
              "      <th>OutputVolume</th>\n",
              "      <th>TotalBitcoins</th>\n",
              "      <th>TransactionFees</th>\n",
              "      <th>TransactionFeesUSD</th>\n",
              "      <th>DowJones</th>\n",
              "      <th>EURUSD</th>\n",
              "      <th>USDEUR</th>\n",
              "      <th>OilPrice</th>\n",
              "    </tr>\n",
              "  </thead>\n",
              "  <tbody>\n",
              "    <tr>\n",
              "      <th>0</th>\n",
              "      <td>2009-03-01</td>\n",
              "      <td>0,00</td>\n",
              "      <td>0,00</td>\n",
              "      <td>0,00</td>\n",
              "      <td>0,00</td>\n",
              "      <td>0,00</td>\n",
              "      <td>0,00</td>\n",
              "      <td>0,00</td>\n",
              "      <td>1,00</td>\n",
              "      <td>0,00</td>\n",
              "      <td>0,00</td>\n",
              "      <td>0,00</td>\n",
              "      <td>0,00</td>\n",
              "      <td>1,00</td>\n",
              "      <td>1,00</td>\n",
              "      <td>50,00</td>\n",
              "      <td>50,00</td>\n",
              "      <td>0,00</td>\n",
              "      <td>0,00</td>\n",
              "      <td>9034,69</td>\n",
              "      <td>1,39</td>\n",
              "      <td>0,72</td>\n",
              "      <td>40,44</td>\n",
              "    </tr>\n",
              "    <tr>\n",
              "      <th>1</th>\n",
              "      <td>2009-04-01</td>\n",
              "      <td>0,00</td>\n",
              "      <td>0,00</td>\n",
              "      <td>0,00</td>\n",
              "      <td>0,00</td>\n",
              "      <td>0,00</td>\n",
              "      <td>0,00</td>\n",
              "      <td>0,00</td>\n",
              "      <td>0,00</td>\n",
              "      <td>0,00</td>\n",
              "      <td>0,00</td>\n",
              "      <td>0,00</td>\n",
              "      <td>0,00</td>\n",
              "      <td>0,00</td>\n",
              "      <td>0,00</td>\n",
              "      <td>0,00</td>\n",
              "      <td>50,00</td>\n",
              "      <td>0,00</td>\n",
              "      <td>0,00</td>\n",
              "      <td>9034,69</td>\n",
              "      <td>1,39</td>\n",
              "      <td>0,72</td>\n",
              "      <td>40,44</td>\n",
              "    </tr>\n",
              "    <tr>\n",
              "      <th>2</th>\n",
              "      <td>2009-05-01</td>\n",
              "      <td>0,00</td>\n",
              "      <td>0,00</td>\n",
              "      <td>0,00</td>\n",
              "      <td>0,00</td>\n",
              "      <td>0,00</td>\n",
              "      <td>0,00</td>\n",
              "      <td>0,00</td>\n",
              "      <td>0,00</td>\n",
              "      <td>0,00</td>\n",
              "      <td>0,00</td>\n",
              "      <td>0,00</td>\n",
              "      <td>0,00</td>\n",
              "      <td>0,00</td>\n",
              "      <td>0,00</td>\n",
              "      <td>0,00</td>\n",
              "      <td>50,00</td>\n",
              "      <td>0,00</td>\n",
              "      <td>0,00</td>\n",
              "      <td>8952,89</td>\n",
              "      <td>1,36</td>\n",
              "      <td>0,74</td>\n",
              "      <td>43,98</td>\n",
              "    </tr>\n",
              "    <tr>\n",
              "      <th>3</th>\n",
              "      <td>2009-06-01</td>\n",
              "      <td>0,00</td>\n",
              "      <td>0,00</td>\n",
              "      <td>0,00</td>\n",
              "      <td>0,00</td>\n",
              "      <td>0,00</td>\n",
              "      <td>0,00</td>\n",
              "      <td>0,00</td>\n",
              "      <td>0,00</td>\n",
              "      <td>0,00</td>\n",
              "      <td>0,00</td>\n",
              "      <td>0,00</td>\n",
              "      <td>0,00</td>\n",
              "      <td>0,00</td>\n",
              "      <td>0,00</td>\n",
              "      <td>0,00</td>\n",
              "      <td>50,00</td>\n",
              "      <td>0,00</td>\n",
              "      <td>0,00</td>\n",
              "      <td>9015,10</td>\n",
              "      <td>1,34</td>\n",
              "      <td>0,74</td>\n",
              "      <td>46,32</td>\n",
              "    </tr>\n",
              "    <tr>\n",
              "      <th>4</th>\n",
              "      <td>2009-07-01</td>\n",
              "      <td>0,00</td>\n",
              "      <td>0,00</td>\n",
              "      <td>0,00</td>\n",
              "      <td>0,00</td>\n",
              "      <td>0,00</td>\n",
              "      <td>0,00</td>\n",
              "      <td>0,00</td>\n",
              "      <td>0,00</td>\n",
              "      <td>0,00</td>\n",
              "      <td>0,00</td>\n",
              "      <td>0,00</td>\n",
              "      <td>0,00</td>\n",
              "      <td>0,00</td>\n",
              "      <td>0,00</td>\n",
              "      <td>0,00</td>\n",
              "      <td>50,00</td>\n",
              "      <td>0,00</td>\n",
              "      <td>0,00</td>\n",
              "      <td>8769,70</td>\n",
              "      <td>1,37</td>\n",
              "      <td>0,73</td>\n",
              "      <td>45,43</td>\n",
              "    </tr>\n",
              "  </tbody>\n",
              "</table>\n",
              "</div>"
            ],
            "text/plain": [
              "        Date GoogleTrends Bitcoin_DD  ... EURUSD USDEUR OilPrice\n",
              "0 2009-03-01         0,00       0,00  ...   1,39   0,72    40,44\n",
              "1 2009-04-01         0,00       0,00  ...   1,39   0,72    40,44\n",
              "2 2009-05-01         0,00       0,00  ...   1,36   0,74    43,98\n",
              "3 2009-06-01         0,00       0,00  ...   1,34   0,74    46,32\n",
              "4 2009-07-01         0,00       0,00  ...   1,37   0,73    45,43\n",
              "\n",
              "[5 rows x 23 columns]"
            ]
          },
          "metadata": {
            "tags": []
          },
          "execution_count": 15
        }
      ]
    },
    {
      "cell_type": "code",
      "metadata": {
        "id": "2efjWBSI-Ama",
        "colab_type": "code",
        "colab": {
          "base_uri": "https://localhost:8080/",
          "height": 425
        },
        "outputId": "a7a54419-dc2d-41cb-c3d7-0c053e3a38f9"
      },
      "source": [
        "# visualizando os tipos dos dados\n",
        "market.dtypes"
      ],
      "execution_count": 16,
      "outputs": [
        {
          "output_type": "execute_result",
          "data": {
            "text/plain": [
              "Date                         datetime64[ns]\n",
              "GoogleTrends                         object\n",
              "Bitcoin_DD                           object\n",
              "MarketPrice                          object\n",
              "TradeVolume                          object\n",
              "NewPosts                             object\n",
              "NewMembers                           object\n",
              "PageViews                            object\n",
              "Difficulty                           object\n",
              "CostPerTransaction                   object\n",
              "CostPerTransactionPercent            object\n",
              "EstimTransactionVolume               object\n",
              "MedConfirmationTime                  object\n",
              "NumOfAddresses                       object\n",
              "NumOfTransactions                    object\n",
              "OutputVolume                         object\n",
              "TotalBitcoins                        object\n",
              "TransactionFees                      object\n",
              "TransactionFeesUSD                   object\n",
              "DowJones                             object\n",
              "EURUSD                               object\n",
              "USDEUR                               object\n",
              "OilPrice                             object\n",
              "dtype: object"
            ]
          },
          "metadata": {
            "tags": []
          },
          "execution_count": 16
        }
      ]
    },
    {
      "cell_type": "code",
      "metadata": {
        "id": "NBJy4CuCEV_j",
        "colab_type": "code",
        "colab": {}
      },
      "source": [
        "# transformando valores em strings para floats\n",
        "columns = market.columns\n",
        "\n",
        "for col in columns:\n",
        "  if (col != 'Date'):\n",
        "    market[col] = market[col].str.replace(\",\", \".\").astype('float64')"
      ],
      "execution_count": 17,
      "outputs": []
    },
    {
      "cell_type": "code",
      "metadata": {
        "id": "vAY8m6a7Igu4",
        "colab_type": "code",
        "colab": {
          "base_uri": "https://localhost:8080/",
          "height": 309
        },
        "outputId": "816c0847-7da2-409b-978b-fa25fad43329"
      },
      "source": [
        "# visualizando os dados\n",
        "market.head(5)"
      ],
      "execution_count": 33,
      "outputs": [
        {
          "output_type": "execute_result",
          "data": {
            "text/html": [
              "<div>\n",
              "<style scoped>\n",
              "    .dataframe tbody tr th:only-of-type {\n",
              "        vertical-align: middle;\n",
              "    }\n",
              "\n",
              "    .dataframe tbody tr th {\n",
              "        vertical-align: top;\n",
              "    }\n",
              "\n",
              "    .dataframe thead th {\n",
              "        text-align: right;\n",
              "    }\n",
              "</style>\n",
              "<table border=\"1\" class=\"dataframe\">\n",
              "  <thead>\n",
              "    <tr style=\"text-align: right;\">\n",
              "      <th></th>\n",
              "      <th>Date</th>\n",
              "      <th>GoogleTrends</th>\n",
              "      <th>Bitcoin_DD</th>\n",
              "      <th>MarketPrice</th>\n",
              "      <th>TradeVolume</th>\n",
              "      <th>NewPosts</th>\n",
              "      <th>NewMembers</th>\n",
              "      <th>PageViews</th>\n",
              "      <th>Difficulty</th>\n",
              "      <th>CostPerTransaction</th>\n",
              "      <th>CostPerTransactionPercent</th>\n",
              "      <th>EstimTransactionVolume</th>\n",
              "      <th>MedConfirmationTime</th>\n",
              "      <th>NumOfAddresses</th>\n",
              "      <th>NumOfTransactions</th>\n",
              "      <th>OutputVolume</th>\n",
              "      <th>TotalBitcoins</th>\n",
              "      <th>TransactionFees</th>\n",
              "      <th>TransactionFeesUSD</th>\n",
              "      <th>DowJones</th>\n",
              "      <th>EURUSD</th>\n",
              "      <th>USDEUR</th>\n",
              "      <th>OilPrice</th>\n",
              "    </tr>\n",
              "  </thead>\n",
              "  <tbody>\n",
              "    <tr>\n",
              "      <th>0</th>\n",
              "      <td>2009-03-01</td>\n",
              "      <td>0.0</td>\n",
              "      <td>0.0</td>\n",
              "      <td>0.0</td>\n",
              "      <td>0.0</td>\n",
              "      <td>0.0</td>\n",
              "      <td>0.0</td>\n",
              "      <td>0.0</td>\n",
              "      <td>1.0</td>\n",
              "      <td>0.0</td>\n",
              "      <td>0.0</td>\n",
              "      <td>0.0</td>\n",
              "      <td>0.0</td>\n",
              "      <td>1.0</td>\n",
              "      <td>1.0</td>\n",
              "      <td>50.0</td>\n",
              "      <td>50.0</td>\n",
              "      <td>0.0</td>\n",
              "      <td>0.0</td>\n",
              "      <td>9034.69</td>\n",
              "      <td>1.39</td>\n",
              "      <td>0.72</td>\n",
              "      <td>40.44</td>\n",
              "    </tr>\n",
              "    <tr>\n",
              "      <th>1</th>\n",
              "      <td>2009-04-01</td>\n",
              "      <td>0.0</td>\n",
              "      <td>0.0</td>\n",
              "      <td>0.0</td>\n",
              "      <td>0.0</td>\n",
              "      <td>0.0</td>\n",
              "      <td>0.0</td>\n",
              "      <td>0.0</td>\n",
              "      <td>0.0</td>\n",
              "      <td>0.0</td>\n",
              "      <td>0.0</td>\n",
              "      <td>0.0</td>\n",
              "      <td>0.0</td>\n",
              "      <td>0.0</td>\n",
              "      <td>0.0</td>\n",
              "      <td>0.0</td>\n",
              "      <td>50.0</td>\n",
              "      <td>0.0</td>\n",
              "      <td>0.0</td>\n",
              "      <td>9034.69</td>\n",
              "      <td>1.39</td>\n",
              "      <td>0.72</td>\n",
              "      <td>40.44</td>\n",
              "    </tr>\n",
              "    <tr>\n",
              "      <th>2</th>\n",
              "      <td>2009-05-01</td>\n",
              "      <td>0.0</td>\n",
              "      <td>0.0</td>\n",
              "      <td>0.0</td>\n",
              "      <td>0.0</td>\n",
              "      <td>0.0</td>\n",
              "      <td>0.0</td>\n",
              "      <td>0.0</td>\n",
              "      <td>0.0</td>\n",
              "      <td>0.0</td>\n",
              "      <td>0.0</td>\n",
              "      <td>0.0</td>\n",
              "      <td>0.0</td>\n",
              "      <td>0.0</td>\n",
              "      <td>0.0</td>\n",
              "      <td>0.0</td>\n",
              "      <td>50.0</td>\n",
              "      <td>0.0</td>\n",
              "      <td>0.0</td>\n",
              "      <td>8952.89</td>\n",
              "      <td>1.36</td>\n",
              "      <td>0.74</td>\n",
              "      <td>43.98</td>\n",
              "    </tr>\n",
              "    <tr>\n",
              "      <th>3</th>\n",
              "      <td>2009-06-01</td>\n",
              "      <td>0.0</td>\n",
              "      <td>0.0</td>\n",
              "      <td>0.0</td>\n",
              "      <td>0.0</td>\n",
              "      <td>0.0</td>\n",
              "      <td>0.0</td>\n",
              "      <td>0.0</td>\n",
              "      <td>0.0</td>\n",
              "      <td>0.0</td>\n",
              "      <td>0.0</td>\n",
              "      <td>0.0</td>\n",
              "      <td>0.0</td>\n",
              "      <td>0.0</td>\n",
              "      <td>0.0</td>\n",
              "      <td>0.0</td>\n",
              "      <td>50.0</td>\n",
              "      <td>0.0</td>\n",
              "      <td>0.0</td>\n",
              "      <td>9015.10</td>\n",
              "      <td>1.34</td>\n",
              "      <td>0.74</td>\n",
              "      <td>46.32</td>\n",
              "    </tr>\n",
              "    <tr>\n",
              "      <th>4</th>\n",
              "      <td>2009-07-01</td>\n",
              "      <td>0.0</td>\n",
              "      <td>0.0</td>\n",
              "      <td>0.0</td>\n",
              "      <td>0.0</td>\n",
              "      <td>0.0</td>\n",
              "      <td>0.0</td>\n",
              "      <td>0.0</td>\n",
              "      <td>0.0</td>\n",
              "      <td>0.0</td>\n",
              "      <td>0.0</td>\n",
              "      <td>0.0</td>\n",
              "      <td>0.0</td>\n",
              "      <td>0.0</td>\n",
              "      <td>0.0</td>\n",
              "      <td>0.0</td>\n",
              "      <td>50.0</td>\n",
              "      <td>0.0</td>\n",
              "      <td>0.0</td>\n",
              "      <td>8769.70</td>\n",
              "      <td>1.37</td>\n",
              "      <td>0.73</td>\n",
              "      <td>45.43</td>\n",
              "    </tr>\n",
              "  </tbody>\n",
              "</table>\n",
              "</div>"
            ],
            "text/plain": [
              "        Date  GoogleTrends  Bitcoin_DD  ...  EURUSD  USDEUR  OilPrice\n",
              "0 2009-03-01           0.0         0.0  ...    1.39    0.72     40.44\n",
              "1 2009-04-01           0.0         0.0  ...    1.39    0.72     40.44\n",
              "2 2009-05-01           0.0         0.0  ...    1.36    0.74     43.98\n",
              "3 2009-06-01           0.0         0.0  ...    1.34    0.74     46.32\n",
              "4 2009-07-01           0.0         0.0  ...    1.37    0.73     45.43\n",
              "\n",
              "[5 rows x 23 columns]"
            ]
          },
          "metadata": {
            "tags": []
          },
          "execution_count": 33
        }
      ]
    },
    {
      "cell_type": "code",
      "metadata": {
        "id": "xB9CiRtTt4Mu",
        "colab_type": "code",
        "colab": {}
      },
      "source": [
        "# salva a base de dados transformada\n",
        "market.to_csv(\"/content/drive/My Drive/Análise Exploratória/Dados/market_data.v5.csv\")"
      ],
      "execution_count": 22,
      "outputs": []
    },
    {
      "cell_type": "markdown",
      "metadata": {
        "id": "-vNtyVsx36TY",
        "colab_type": "text"
      },
      "source": [
        "#### Calculando valores nulos\n",
        "\n",
        "Nesta seção, vamos buscar entender como estão distribuídos os dados vazios da nossa base para que possamos escolher a melhor estratégia para a sua manipulação.[texto do link](https://)"
      ]
    },
    {
      "cell_type": "code",
      "metadata": {
        "id": "tyBa8Bbpw_IJ",
        "colab_type": "code",
        "colab": {}
      },
      "source": [
        "# cria um novo dataframe\n",
        "market1 = market\n",
        "\n",
        "# substitui todos os zeros por NaN\n",
        "market1 = market1.replace(0.0, np.nan)"
      ],
      "execution_count": 34,
      "outputs": []
    },
    {
      "cell_type": "code",
      "metadata": {
        "id": "e7z217U24JVF",
        "colab_type": "code",
        "colab": {
          "base_uri": "https://localhost:8080/",
          "height": 731
        },
        "outputId": "563ba45d-3f5b-4cc7-e52c-8b0116fda2f8"
      },
      "source": [
        "# visualizando valores vazios\n",
        "def empty_values(df):\n",
        "  columns = market.columns\n",
        "\n",
        "  return pd.DataFrame({ \\\n",
        "                      'Columns':[col for col in columns if col != 'Date'], \\\n",
        "                      'Empty':[df[col].isnull().sum() for col in columns if col != 'Date'], \\\n",
        "                      'Empty(%)':[df[col].isnull().sum()/df[col].isnull().count() for col in columns if col != 'Date']})\n",
        "\n",
        "empty_values(df = market1)"
      ],
      "execution_count": 82,
      "outputs": [
        {
          "output_type": "execute_result",
          "data": {
            "text/html": [
              "<div>\n",
              "<style scoped>\n",
              "    .dataframe tbody tr th:only-of-type {\n",
              "        vertical-align: middle;\n",
              "    }\n",
              "\n",
              "    .dataframe tbody tr th {\n",
              "        vertical-align: top;\n",
              "    }\n",
              "\n",
              "    .dataframe thead th {\n",
              "        text-align: right;\n",
              "    }\n",
              "</style>\n",
              "<table border=\"1\" class=\"dataframe\">\n",
              "  <thead>\n",
              "    <tr style=\"text-align: right;\">\n",
              "      <th></th>\n",
              "      <th>Columns</th>\n",
              "      <th>Empty</th>\n",
              "      <th>Empty(%)</th>\n",
              "    </tr>\n",
              "  </thead>\n",
              "  <tbody>\n",
              "    <tr>\n",
              "      <th>0</th>\n",
              "      <td>GoogleTrends</td>\n",
              "      <td>563</td>\n",
              "      <td>0.148158</td>\n",
              "    </tr>\n",
              "    <tr>\n",
              "      <th>1</th>\n",
              "      <td>Bitcoin_DD</td>\n",
              "      <td>1316</td>\n",
              "      <td>0.346316</td>\n",
              "    </tr>\n",
              "    <tr>\n",
              "      <th>2</th>\n",
              "      <td>MarketPrice</td>\n",
              "      <td>591</td>\n",
              "      <td>0.155526</td>\n",
              "    </tr>\n",
              "    <tr>\n",
              "      <th>3</th>\n",
              "      <td>TradeVolume</td>\n",
              "      <td>571</td>\n",
              "      <td>0.150263</td>\n",
              "    </tr>\n",
              "    <tr>\n",
              "      <th>4</th>\n",
              "      <td>NewPosts</td>\n",
              "      <td>894</td>\n",
              "      <td>0.235263</td>\n",
              "    </tr>\n",
              "    <tr>\n",
              "      <th>5</th>\n",
              "      <td>NewMembers</td>\n",
              "      <td>969</td>\n",
              "      <td>0.255000</td>\n",
              "    </tr>\n",
              "    <tr>\n",
              "      <th>6</th>\n",
              "      <td>PageViews</td>\n",
              "      <td>1570</td>\n",
              "      <td>0.413158</td>\n",
              "    </tr>\n",
              "    <tr>\n",
              "      <th>7</th>\n",
              "      <td>Difficulty</td>\n",
              "      <td>5</td>\n",
              "      <td>0.001316</td>\n",
              "    </tr>\n",
              "    <tr>\n",
              "      <th>8</th>\n",
              "      <td>CostPerTransaction</td>\n",
              "      <td>591</td>\n",
              "      <td>0.155526</td>\n",
              "    </tr>\n",
              "    <tr>\n",
              "      <th>9</th>\n",
              "      <td>CostPerTransactionPercent</td>\n",
              "      <td>263</td>\n",
              "      <td>0.069211</td>\n",
              "    </tr>\n",
              "    <tr>\n",
              "      <th>10</th>\n",
              "      <td>EstimTransactionVolume</td>\n",
              "      <td>263</td>\n",
              "      <td>0.069211</td>\n",
              "    </tr>\n",
              "    <tr>\n",
              "      <th>11</th>\n",
              "      <td>MedConfirmationTime</td>\n",
              "      <td>1063</td>\n",
              "      <td>0.279737</td>\n",
              "    </tr>\n",
              "    <tr>\n",
              "      <th>12</th>\n",
              "      <td>NumOfAddresses</td>\n",
              "      <td>5</td>\n",
              "      <td>0.001316</td>\n",
              "    </tr>\n",
              "    <tr>\n",
              "      <th>13</th>\n",
              "      <td>NumOfTransactions</td>\n",
              "      <td>5</td>\n",
              "      <td>0.001316</td>\n",
              "    </tr>\n",
              "    <tr>\n",
              "      <th>14</th>\n",
              "      <td>OutputVolume</td>\n",
              "      <td>5</td>\n",
              "      <td>0.001316</td>\n",
              "    </tr>\n",
              "    <tr>\n",
              "      <th>15</th>\n",
              "      <td>TotalBitcoins</td>\n",
              "      <td>486</td>\n",
              "      <td>0.127895</td>\n",
              "    </tr>\n",
              "    <tr>\n",
              "      <th>16</th>\n",
              "      <td>TransactionFees</td>\n",
              "      <td>631</td>\n",
              "      <td>0.166053</td>\n",
              "    </tr>\n",
              "    <tr>\n",
              "      <th>17</th>\n",
              "      <td>TransactionFeesUSD</td>\n",
              "      <td>676</td>\n",
              "      <td>0.177895</td>\n",
              "    </tr>\n",
              "    <tr>\n",
              "      <th>18</th>\n",
              "      <td>DowJones</td>\n",
              "      <td>0</td>\n",
              "      <td>0.000000</td>\n",
              "    </tr>\n",
              "    <tr>\n",
              "      <th>19</th>\n",
              "      <td>EURUSD</td>\n",
              "      <td>133</td>\n",
              "      <td>0.035000</td>\n",
              "    </tr>\n",
              "    <tr>\n",
              "      <th>20</th>\n",
              "      <td>USDEUR</td>\n",
              "      <td>0</td>\n",
              "      <td>0.000000</td>\n",
              "    </tr>\n",
              "    <tr>\n",
              "      <th>21</th>\n",
              "      <td>OilPrice</td>\n",
              "      <td>0</td>\n",
              "      <td>0.000000</td>\n",
              "    </tr>\n",
              "  </tbody>\n",
              "</table>\n",
              "</div>"
            ],
            "text/plain": [
              "                      Columns  Empty  Empty(%)\n",
              "0                GoogleTrends    563  0.148158\n",
              "1                  Bitcoin_DD   1316  0.346316\n",
              "2                 MarketPrice    591  0.155526\n",
              "3                 TradeVolume    571  0.150263\n",
              "4                    NewPosts    894  0.235263\n",
              "5                  NewMembers    969  0.255000\n",
              "6                   PageViews   1570  0.413158\n",
              "7                  Difficulty      5  0.001316\n",
              "8          CostPerTransaction    591  0.155526\n",
              "9   CostPerTransactionPercent    263  0.069211\n",
              "10     EstimTransactionVolume    263  0.069211\n",
              "11        MedConfirmationTime   1063  0.279737\n",
              "12             NumOfAddresses      5  0.001316\n",
              "13          NumOfTransactions      5  0.001316\n",
              "14               OutputVolume      5  0.001316\n",
              "15              TotalBitcoins    486  0.127895\n",
              "16            TransactionFees    631  0.166053\n",
              "17         TransactionFeesUSD    676  0.177895\n",
              "18                   DowJones      0  0.000000\n",
              "19                     EURUSD    133  0.035000\n",
              "20                     USDEUR      0  0.000000\n",
              "21                   OilPrice      0  0.000000"
            ]
          },
          "metadata": {
            "tags": []
          },
          "execution_count": 82
        }
      ]
    },
    {
      "cell_type": "code",
      "metadata": {
        "id": "ztTJDmD4c8cp",
        "colab_type": "code",
        "colab": {}
      },
      "source": [
        "count_nulls = market.isnull().sum(axis=1)\n",
        "date = market['Date']"
      ],
      "execution_count": 23,
      "outputs": []
    },
    {
      "cell_type": "code",
      "metadata": {
        "id": "WZgBtxIHtk7I",
        "colab_type": "code",
        "colab": {
          "base_uri": "https://localhost:8080/",
          "height": 34
        },
        "outputId": "1eb4ddcb-7dc3-4ea2-bbce-d23a167b49c7"
      },
      "source": [
        "count_nulls.values"
      ],
      "execution_count": 42,
      "outputs": [
        {
          "output_type": "execute_result",
          "data": {
            "text/plain": [
              "array([0, 0, 0, ..., 4, 4, 4])"
            ]
          },
          "metadata": {
            "tags": []
          },
          "execution_count": 42
        }
      ]
    },
    {
      "cell_type": "code",
      "metadata": {
        "id": "hX6byBOFy76J",
        "colab_type": "code",
        "colab": {}
      },
      "source": [
        "# calcula o número de dados vazios em cada linha\n",
        "count_nulls = market1.isnull().sum(axis=1)"
      ],
      "execution_count": 55,
      "outputs": []
    },
    {
      "cell_type": "code",
      "metadata": {
        "id": "ih5oZWggy9uk",
        "colab_type": "code",
        "colab": {}
      },
      "source": [
        "# import matplotlib\n",
        "%matplotlib inline\n",
        "import matplotlib.pyplot as plt\n",
        "plt.style.use('seaborn-whitegrid')"
      ],
      "execution_count": 58,
      "outputs": []
    },
    {
      "cell_type": "code",
      "metadata": {
        "id": "ovrDpXKK5dGH",
        "colab_type": "code",
        "colab": {
          "base_uri": "https://localhost:8080/",
          "height": 283
        },
        "outputId": "ad92bb32-0cd2-4474-9432-6cff0bd19062"
      },
      "source": [
        "# plot do total de dados vazios por linha\n",
        "fig = plt.figure()\n",
        "ax = plt.axes()\n",
        "ax.plot(market1['Date'].values, count_nulls,':b')\n",
        "plt.ylim(0,20)"
      ],
      "execution_count": 87,
      "outputs": [
        {
          "output_type": "execute_result",
          "data": {
            "text/plain": [
              "(0.0, 20.0)"
            ]
          },
          "metadata": {
            "tags": []
          },
          "execution_count": 87
        },
        {
          "output_type": "display_data",
          "data": {
            "image/png": "[encoded data removed]",
            "text/plain": [
              "<Figure size 432x288 with 1 Axes>"
            ]
          },
          "metadata": {
            "tags": []
          }
        }
      ]
    },
    {
      "cell_type": "code",
      "metadata": {
        "id": "dbK6civr5giu",
        "colab_type": "code",
        "colab": {
          "base_uri": "https://localhost:8080/",
          "height": 425
        },
        "outputId": "ced9dbef-3a20-4e44-9096-5a315a390225"
      },
      "source": [
        "market1.isnull().sum()"
      ],
      "execution_count": 85,
      "outputs": [
        {
          "output_type": "execute_result",
          "data": {
            "text/plain": [
              "Date                            0\n",
              "GoogleTrends                  563\n",
              "Bitcoin_DD                   1316\n",
              "MarketPrice                   591\n",
              "TradeVolume                   571\n",
              "NewPosts                      894\n",
              "NewMembers                    969\n",
              "PageViews                    1570\n",
              "Difficulty                      5\n",
              "CostPerTransaction            591\n",
              "CostPerTransactionPercent     263\n",
              "EstimTransactionVolume        263\n",
              "MedConfirmationTime          1063\n",
              "NumOfAddresses                  5\n",
              "NumOfTransactions               5\n",
              "OutputVolume                    5\n",
              "TotalBitcoins                 486\n",
              "TransactionFees               631\n",
              "TransactionFeesUSD            676\n",
              "DowJones                        0\n",
              "EURUSD                        133\n",
              "USDEUR                          0\n",
              "OilPrice                        0\n",
              "dtype: int64"
            ]
          },
          "metadata": {
            "tags": []
          },
          "execution_count": 85
        }
      ]
    },
    {
      "cell_type": "code",
      "metadata": {
        "id": "z1A3dDQb9X-V",
        "colab_type": "code",
        "colab": {}
      },
      "source": [
        ""
      ],
      "execution_count": null,
      "outputs": []
    }
  ]
}